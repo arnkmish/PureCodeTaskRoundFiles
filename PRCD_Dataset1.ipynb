{
  "nbformat": 4,
  "nbformat_minor": 0,
  "metadata": {
    "colab": {
      "provenance": [],
      "gpuType": "T4"
    },
    "kernelspec": {
      "name": "python3",
      "display_name": "Python 3"
    },
    "language_info": {
      "name": "python"
    },
    "accelerator": "GPU",
    "gpuClass": "standard"
  },
  "cells": [
    {
      "cell_type": "markdown",
      "source": [
        "## **UI Diagram to .gui Code Generation Via CNN-LSTM Based Image Captioning (Dataset 1)**"
      ],
      "metadata": {
        "id": "cBfwZppB8uaw"
      }
    },
    {
      "cell_type": "markdown",
      "source": [
        "**First we load the data from Google Drive**"
      ],
      "metadata": {
        "id": "xHpImMcQ9FM0"
      }
    },
    {
      "cell_type": "code",
      "execution_count": 1,
      "metadata": {
        "colab": {
          "base_uri": "https://localhost:8080/"
        },
        "id": "cKOKMVO-lmGr",
        "outputId": "03d9d669-9a0c-4a3f-aa9c-7a6c93d248f4"
      },
      "outputs": [
        {
          "output_type": "stream",
          "name": "stdout",
          "text": [
            "Mounted at /content/drive\n"
          ]
        }
      ],
      "source": [
        "from google.colab import drive\n",
        "drive.mount('/content/drive')"
      ]
    },
    {
      "cell_type": "code",
      "source": [
        "import os\n",
        "\n",
        "print(os.listdir('/content/drive/My Drive/PRCD/D1'))"
      ],
      "metadata": {
        "colab": {
          "base_uri": "https://localhost:8080/"
        },
        "id": "oCBVm3pFl_YA",
        "outputId": "bf0162a9-5479-482f-e02b-bf68b785f540"
      },
      "execution_count": 2,
      "outputs": [
        {
          "output_type": "stream",
          "name": "stdout",
          "text": [
            "['.DS_Store', 'IMAGES', 'TEXT_LABELS']\n"
          ]
        }
      ]
    },
    {
      "cell_type": "code",
      "source": [
        "d1ImageFolder = '/content/drive/My Drive/PRCD/D1/IMAGES/'\n",
        "d1LabelFolder = '/content/drive/My Drive/PRCD/D1/TEXT_LABELS/'\n",
        "\n",
        "d2ImageFolder = '/content/drive/My Drive/PRCD/D2/IMAGES/'\n",
        "d2LabelFolder = '/content/drive/My Drive/PRCD/D2/TEXT_LABELS/'\n",
        "\n",
        "d3ImageFolder = '/content/drive/My Drive/PRCD/D3/IMAGES/'\n",
        "d3LabelFolder = '/content/drive/My Drive/PRCD/D3/TEXT_LABELS/'\n",
        "\n",
        "d1ImageFiles = [d1ImageFolder+item for item in os.listdir(d1ImageFolder) if '.DS_Store' not in item]\n",
        "d1LabelFiles = [d1LabelFolder+item for item in os.listdir(d1LabelFolder) if '.DS_Store' not in item]\n",
        "\n",
        "d2ImageFiles = [d2ImageFolder+item for item in os.listdir(d2ImageFolder) if '.DS_Store' not in item]\n",
        "d2LabelFiles = [d2LabelFolder+item for item in os.listdir(d2LabelFolder) if '.DS_Store' not in item]\n",
        "\n",
        "d3ImageFiles = [d3ImageFolder+item for item in os.listdir(d3ImageFolder) if '.DS_Store' not in item]\n",
        "d3LabelFiles = [d3LabelFolder+item for item in os.listdir(d3LabelFolder) if '.DS_Store' not in item]\n",
        "\n",
        "print(len(d1ImageFiles))\n",
        "print(len(d1LabelFiles))\n",
        "print(len(d2ImageFiles))\n",
        "print(len(d2LabelFiles))\n",
        "print(len(d3ImageFiles))\n",
        "print(len(d3LabelFiles))"
      ],
      "metadata": {
        "colab": {
          "base_uri": "https://localhost:8080/"
        },
        "id": "PosdnWhenc7z",
        "outputId": "b69745a6-18bb-4c92-cbed-792da6c77aa3"
      },
      "execution_count": 3,
      "outputs": [
        {
          "output_type": "stream",
          "name": "stdout",
          "text": [
            "300\n",
            "300\n",
            "300\n",
            "300\n",
            "300\n",
            "300\n"
          ]
        }
      ]
    },
    {
      "cell_type": "code",
      "source": [
        "sortedD1ImgFiles = sorted(d1ImageFiles)\n",
        "sortedD1LblFiles = sorted(d1LabelFiles)\n",
        "\n",
        "print(sortedD1ImgFiles[:5])\n",
        "print(sortedD1LblFiles[:5])"
      ],
      "metadata": {
        "colab": {
          "base_uri": "https://localhost:8080/"
        },
        "id": "Ctag4bpBqNsQ",
        "outputId": "7e004feb-6bfa-43be-b1f1-7cfbca0c790f"
      },
      "execution_count": 4,
      "outputs": [
        {
          "output_type": "stream",
          "name": "stdout",
          "text": [
            "['/content/drive/My Drive/PRCD/D1/IMAGES/01357379-D6C2-4B01-AA66-C8790642D0B1.png', '/content/drive/My Drive/PRCD/D1/IMAGES/01B6145F-B88B-4FF8-B7D7-BB8A321EDA85.png', '/content/drive/My Drive/PRCD/D1/IMAGES/02C4C780-79EA-43F1-B2AE-3A2C757F874C.png', '/content/drive/My Drive/PRCD/D1/IMAGES/03806667-47A8-4965-8E93-21E205D5E8A7.png', '/content/drive/My Drive/PRCD/D1/IMAGES/042B145D-1E0D-47CB-B16C-7F49B64DFF53.png']\n",
            "['/content/drive/My Drive/PRCD/D1/TEXT_LABELS/01357379-D6C2-4B01-AA66-C8790642D0B1.gui', '/content/drive/My Drive/PRCD/D1/TEXT_LABELS/01B6145F-B88B-4FF8-B7D7-BB8A321EDA85.gui', '/content/drive/My Drive/PRCD/D1/TEXT_LABELS/02C4C780-79EA-43F1-B2AE-3A2C757F874C.gui', '/content/drive/My Drive/PRCD/D1/TEXT_LABELS/03806667-47A8-4965-8E93-21E205D5E8A7.gui', '/content/drive/My Drive/PRCD/D1/TEXT_LABELS/042B145D-1E0D-47CB-B16C-7F49B64DFF53.gui']\n"
          ]
        }
      ]
    },
    {
      "cell_type": "code",
      "source": [
        "sortedD2ImgFiles = sorted(d2ImageFiles)\n",
        "sortedD2LblFiles = sorted(d2LabelFiles)\n",
        "\n",
        "print(sortedD2ImgFiles[:5])\n",
        "print(sortedD2LblFiles[:5])"
      ],
      "metadata": {
        "colab": {
          "base_uri": "https://localhost:8080/"
        },
        "id": "ctsfJEw7qZxD",
        "outputId": "f36c9d6f-9ee7-403e-8719-615cddbff669"
      },
      "execution_count": 5,
      "outputs": [
        {
          "output_type": "stream",
          "name": "stdout",
          "text": [
            "['/content/drive/My Drive/PRCD/D2/IMAGES/10408432.png', '/content/drive/My Drive/PRCD/D2/IMAGES/10410760.png', '/content/drive/My Drive/PRCD/D2/IMAGES/10520680.png', '/content/drive/My Drive/PRCD/D2/IMAGES/10616008.png', '/content/drive/My Drive/PRCD/D2/IMAGES/10810885.png']\n",
            "['/content/drive/My Drive/PRCD/D2/TEXT_LABELS/10408432.gui', '/content/drive/My Drive/PRCD/D2/TEXT_LABELS/10410760.gui', '/content/drive/My Drive/PRCD/D2/TEXT_LABELS/10520680.gui', '/content/drive/My Drive/PRCD/D2/TEXT_LABELS/10616008.gui', '/content/drive/My Drive/PRCD/D2/TEXT_LABELS/10810885.gui']\n"
          ]
        }
      ]
    },
    {
      "cell_type": "code",
      "source": [
        "sortedD3ImgFiles = sorted(d3ImageFiles)\n",
        "sortedD3LblFiles = sorted(d3LabelFiles)\n",
        "\n",
        "print(sortedD3ImgFiles[:5])\n",
        "print(sortedD3LblFiles[:5])"
      ],
      "metadata": {
        "colab": {
          "base_uri": "https://localhost:8080/"
        },
        "id": "epOjEjwQsDRW",
        "outputId": "72762983-e5d9-4a31-ae88-4719e7909100"
      },
      "execution_count": 6,
      "outputs": [
        {
          "output_type": "stream",
          "name": "stdout",
          "text": [
            "['/content/drive/My Drive/PRCD/D3/IMAGES/1007382.png', '/content/drive/My Drive/PRCD/D3/IMAGES/1017406.png', '/content/drive/My Drive/PRCD/D3/IMAGES/1022926.png', '/content/drive/My Drive/PRCD/D3/IMAGES/102606.png', '/content/drive/My Drive/PRCD/D3/IMAGES/1030494.png']\n",
            "['/content/drive/My Drive/PRCD/D3/TEXT_LABELS/1007382.gui', '/content/drive/My Drive/PRCD/D3/TEXT_LABELS/1017406.gui', '/content/drive/My Drive/PRCD/D3/TEXT_LABELS/1022926.gui', '/content/drive/My Drive/PRCD/D3/TEXT_LABELS/102606.gui', '/content/drive/My Drive/PRCD/D3/TEXT_LABELS/1030494.gui']\n"
          ]
        }
      ]
    },
    {
      "cell_type": "code",
      "source": [
        "with open('/content/drive/My Drive/PRCD/D3/TEXT_LABELS/1007382.gui', \"r\") as f:\n",
        "    lines = f.readlines()\n",
        "print(' \\n'.join(lines))"
      ],
      "metadata": {
        "colab": {
          "base_uri": "https://localhost:8080/"
        },
        "id": "ejcrWZghsIJ2",
        "outputId": "446ccca0-ee2f-4326-8628-aa34e463a6b6"
      },
      "execution_count": 7,
      "outputs": [
        {
          "output_type": "stream",
          "name": "stdout",
          "text": [
            "components {\n",
            " \n",
            "sidebar, home\n",
            " \n",
            "}\n",
            " \n",
            "orientation {\n",
            " \n",
            "sidebar-left-home-right\n",
            " \n",
            "}\n",
            " \n",
            "sidebar {\n",
            " \n",
            "user {\n",
            " \n",
            "user-img\n",
            " \n",
            "}\n",
            " \n",
            "nav {\n",
            " \n",
            "field-inactive, field-inactive, field-active\n",
            " \n",
            "}\n",
            " \n",
            "logo {\n",
            " \n",
            "logo-img\n",
            " \n",
            "}\n",
            " \n",
            "}\n",
            " \n",
            "home {\n",
            " \n",
            "cards {\n",
            " \n",
            "img-card, img-txt-btn-card, img-card\n",
            " \n",
            "}\n",
            " \n",
            "table {\n",
            " \n",
            "btns {\n",
            " \n",
            "btn\n",
            " \n",
            "}\n",
            " \n",
            "table-col {\n",
            " \n",
            "category, category\n",
            " \n",
            "}\n",
            " \n",
            "table-row {\n",
            " \n",
            "entry\n",
            " \n",
            "}\n",
            " \n",
            "}\n",
            " \n",
            "}\n",
            "\n"
          ]
        }
      ]
    },
    {
      "cell_type": "markdown",
      "source": [
        "**We observe that there are 300 samples in total for each of the datasets. Also the UI images and there corresponding code files only differ in there file extensions. This will be useful while writing our dataloader.**"
      ],
      "metadata": {
        "id": "SxoKTBwG9Uj3"
      }
    },
    {
      "cell_type": "code",
      "source": [
        "# CREATE DATALOADER\n",
        "\n",
        "import pandas as pd\n",
        "import spacy\n",
        "import torch\n",
        "from torch.nn.utils.rnn import pad_sequence\n",
        "from torch.utils.data import DataLoader, Dataset\n",
        "from torchvision import transforms\n",
        "from PIL import Image\n",
        "\n",
        "class Vocabulary:\n",
        "  def __init__(self, freq_thresh):\n",
        "    self.itos = {0:\"<PAD>\", 1:\"<SOS>\", 2:\"<EOS>\", 3:\"<UNK>\"}\n",
        "    self.stoi = {\"<PAD>\":0, \"<SOS>\":1, \"<EOS>\":2, \"<UNK>\":3}\n",
        "    self.freq_thresh = freq_thresh\n",
        "\n",
        "  def __len__(self):\n",
        "    return len(self.itos)\n",
        "\n",
        "  @staticmethod\n",
        "  def my_tokenizer(text):\n",
        "    return text.split(' ')\n",
        "\n",
        "  def build_vocab(self,caption_list):\n",
        "    frequencies = {}\n",
        "    idx = 4\n",
        "    text_captions = []\n",
        "    for file in caption_list:\n",
        "      with open(file, \"r\") as f:\n",
        "        lines = f.readlines()\n",
        "      caption = ' \\n'.join(lines)\n",
        "      for word in caption.split(' '):\n",
        "        if word not in frequencies:\n",
        "          frequencies[word] = 1\n",
        "        else:\n",
        "          frequencies[word] += 1\n",
        "\n",
        "        if frequencies[word] == self.freq_thresh:\n",
        "          self.stoi[word] = idx\n",
        "          self.itos[idx] = word\n",
        "          idx += 1\n",
        "  def num(self, text):\n",
        "    tokenized_text = text.split(' ')\n",
        "\n",
        "    return [\n",
        "        self.stoi[token] if token in self.stoi else self.stoi['<UNK>']\n",
        "        for token in tokenized_text\n",
        "    ]  \n",
        "\n",
        "class MyDataset(Dataset):\n",
        "  def __init__(self, imgPathList, transform = None, freq_thresh=3):\n",
        "    self.imgPathList = imgPathList\n",
        "    self.transform = transform\n",
        "\n",
        "    # Initialize vocabulary and build vocabulary\n",
        "    self.caption_list = [item.replace('.png','.gui').replace('/IMAGES/','/TEXT_LABELS/') for item in self.imgPathList]\n",
        "    self.vocab = Vocabulary(freq_thresh)\n",
        "    self.vocab.build_vocab(self.caption_list)\n",
        "\n",
        "  def __len__(self):\n",
        "    return len(self.imgPathList)\n",
        "\n",
        "  def __getitem__(self, index):\n",
        "    captionPath = self.caption_list[index]\n",
        "\n",
        "    with open(captionPath, \"r\") as f:\n",
        "      lines = f.readlines()\n",
        "    caption = ' \\n'.join(lines)\n",
        "\n",
        "    imgPath = self.imgPathList[index]\n",
        "    img = Image.open(imgPath).convert(\"RGB\")\n",
        "\n",
        "    if self.transform is not None:\n",
        "      img = self.transform(img)\n",
        "\n",
        "    num_caption = [self.vocab.stoi[\"<SOS>\"]]\n",
        "    num_caption += self.vocab.num(caption)\n",
        "    num_caption.append(self.vocab.stoi[\"<EOS>\"])\n",
        "\n",
        "    return img, torch.tensor(num_caption)\n",
        "\n",
        "class MyCollate:\n",
        "  def __init__(self, pad_idx):\n",
        "    self.pad_idx = pad_idx\n",
        "\n",
        "  def __call__(self, batch):\n",
        "    imgs = [item[0].unsqueeze(0) for item in batch]\n",
        "    imgs = torch.cat(imgs, dim=0)\n",
        "    targets = [item[1] for item in batch]\n",
        "    targets = pad_sequence(targets, batch_first=False, padding_value=self.pad_idx)\n",
        "\n",
        "    return imgs, targets\n",
        "\n",
        "def get_loader(imgPathList, \n",
        "               transform, \n",
        "               batch_size=16, \n",
        "               num_workers=8,\n",
        "               shuffle = True,\n",
        "               pin_memory = True,\n",
        "               ):\n",
        "  dataset = MyDataset(imgPathList, transform)\n",
        "  pad_idx = dataset.vocab.stoi[\"<PAD>\"]\n",
        "\n",
        "  # print(dataset[0][0].shape)\n",
        "  # print(dataset[0][1].shape)\n",
        "  # print(dataset[1][0].shape)\n",
        "  # print(dataset[1][1].shape)\n",
        "\n",
        "  loader = DataLoader(\n",
        "      dataset = dataset,\n",
        "      batch_size = batch_size,\n",
        "      num_workers = num_workers,\n",
        "      shuffle = shuffle,\n",
        "      pin_memory = pin_memory,\n",
        "      collate_fn = MyCollate(pad_idx=pad_idx)\n",
        "  )\n",
        "\n",
        "  return loader\n",
        "\n",
        "transform = transforms.Compose([transforms.Resize((320,320)),transforms.ToTensor()])\n",
        "\n",
        "dataloader = get_loader(sortedD1ImgFiles, transform)\n",
        "\n",
        "for idx, data  in enumerate(dataloader):\n",
        "  print(data[0].shape)\n",
        "  print(data[1].shape)\n",
        "  \n"
      ],
      "metadata": {
        "colab": {
          "base_uri": "https://localhost:8080/"
        },
        "id": "LhOcNIJcs6p-",
        "outputId": "e8efea3f-f1a6-4235-b297-882af8482d28"
      },
      "execution_count": 8,
      "outputs": [
        {
          "output_type": "stream",
          "name": "stderr",
          "text": [
            "/usr/local/lib/python3.9/dist-packages/torch/utils/data/dataloader.py:561: UserWarning: This DataLoader will create 8 worker processes in total. Our suggested max number of worker in current system is 2, which is smaller than what this DataLoader is going to create. Please be aware that excessive worker creation might get DataLoader running slow or even freeze, lower the worker number to avoid potential slowness/freeze if necessary.\n",
            "  warnings.warn(_create_warning_msg(\n"
          ]
        },
        {
          "output_type": "stream",
          "name": "stdout",
          "text": [
            "torch.Size([16, 3, 320, 320])\n",
            "torch.Size([71, 16])\n",
            "torch.Size([16, 3, 320, 320])\n",
            "torch.Size([61, 16])\n",
            "torch.Size([16, 3, 320, 320])\n",
            "torch.Size([61, 16])\n",
            "torch.Size([16, 3, 320, 320])\n",
            "torch.Size([65, 16])\n",
            "torch.Size([16, 3, 320, 320])\n",
            "torch.Size([77, 16])\n",
            "torch.Size([16, 3, 320, 320])\n",
            "torch.Size([61, 16])\n",
            "torch.Size([16, 3, 320, 320])\n",
            "torch.Size([89, 16])\n",
            "torch.Size([16, 3, 320, 320])\n",
            "torch.Size([61, 16])\n",
            "torch.Size([16, 3, 320, 320])\n",
            "torch.Size([61, 16])\n",
            "torch.Size([16, 3, 320, 320])\n",
            "torch.Size([61, 16])\n",
            "torch.Size([16, 3, 320, 320])\n",
            "torch.Size([76, 16])\n",
            "torch.Size([16, 3, 320, 320])\n",
            "torch.Size([70, 16])\n",
            "torch.Size([16, 3, 320, 320])\n",
            "torch.Size([64, 16])\n",
            "torch.Size([16, 3, 320, 320])\n",
            "torch.Size([61, 16])\n",
            "torch.Size([16, 3, 320, 320])\n",
            "torch.Size([67, 16])\n",
            "torch.Size([16, 3, 320, 320])\n",
            "torch.Size([61, 16])\n",
            "torch.Size([16, 3, 320, 320])\n",
            "torch.Size([61, 16])\n",
            "torch.Size([16, 3, 320, 320])\n",
            "torch.Size([61, 16])\n",
            "torch.Size([12, 3, 320, 320])\n",
            "torch.Size([61, 12])\n"
          ]
        }
      ]
    },
    {
      "cell_type": "markdown",
      "source": [
        "**We observe that our dataloader has been able to successfully generate batches of equal length text labels and the image transforms are also working**"
      ],
      "metadata": {
        "id": "15teRKNR90uN"
      }
    },
    {
      "cell_type": "code",
      "source": [
        "# CREATE MODEL\n",
        "\n",
        "import torch.nn as nn\n",
        "import statistics\n",
        "import torchvision.models as models\n",
        "\n",
        "\n",
        "class EncoderCNN(nn.Module):\n",
        "    def __init__(self, embed_size, train_CNN=False):\n",
        "        super(EncoderCNN, self).__init__()\n",
        "        self.train_CNN = train_CNN\n",
        "        self.res = models.resnet50(weights=models.ResNet50_Weights.IMAGENET1K_V1)\n",
        "        self.res.fc = nn.Linear(self.res.fc.in_features, embed_size)\n",
        "        self.relu = nn.ReLU()\n",
        "        self.times = []\n",
        "        self.dropout = nn.Dropout(0.5)\n",
        "\n",
        "    def forward(self, images):\n",
        "        features = self.res(images)\n",
        "        return self.dropout(self.relu(features))\n",
        "\n",
        "\n",
        "class DecoderRNN(nn.Module):\n",
        "    def __init__(self, embed_size, hidden_size, vocab_size, num_layers):\n",
        "        super(DecoderRNN, self).__init__()\n",
        "        self.embed = nn.Embedding(vocab_size, embed_size)\n",
        "        self.lstm = nn.LSTM(embed_size, hidden_size, num_layers)\n",
        "        self.linear = nn.Linear(hidden_size, vocab_size)\n",
        "        self.dropout = nn.Dropout(0.5)\n",
        "\n",
        "    def forward(self, features, captions):\n",
        "        embeddings = self.dropout(self.embed(captions))\n",
        "        embeddings = torch.cat((features.unsqueeze(0), embeddings), dim=0)\n",
        "        hiddens, _ = self.lstm(embeddings)\n",
        "        outputs = self.linear(hiddens)\n",
        "        return outputs\n",
        "\n",
        "\n",
        "class CNNtoRNN(nn.Module):\n",
        "    def __init__(self, embed_size, hidden_size, vocab_size, num_layers):\n",
        "        super(CNNtoRNN, self).__init__()\n",
        "        self.encoderCNN = EncoderCNN(embed_size)\n",
        "        self.decoderRNN = DecoderRNN(embed_size, hidden_size, vocab_size, num_layers)\n",
        "\n",
        "    def forward(self, images, captions):\n",
        "        features = self.encoderCNN(images)\n",
        "        outputs = self.decoderRNN(features, captions)\n",
        "        return outputs\n",
        "\n",
        "    def caption_image(self, image, vocabulary, max_length=50):\n",
        "        result_caption = []\n",
        "\n",
        "        with torch.no_grad():\n",
        "            x = self.encoderCNN(image).unsqueeze(0)\n",
        "            states = None\n",
        "\n",
        "            for _ in range(max_length):\n",
        "                hiddens, states = self.decoderRNN.lstm(x, states)\n",
        "                output = self.decoderRNN.linear(hiddens.squeeze(0))\n",
        "                predicted = output.argmax(1)\n",
        "                result_caption.append(predicted.item())\n",
        "                x = self.decoderRNN.embed(predicted).unsqueeze(0)\n",
        "\n",
        "                if vocabulary.itos[predicted.item()] == \"<EOS>\":\n",
        "                    break\n",
        "\n",
        "        return [vocabulary.itos[idx] for idx in result_caption]\n"
      ],
      "metadata": {
        "id": "dka0TrkjBs_Q"
      },
      "execution_count": 11,
      "outputs": []
    },
    {
      "cell_type": "markdown",
      "source": [
        "**In the above code we have created our CNN-LSTM model. It is a simple model with ResNet50 architecture frozen while keeping only the fc layers trainable. The ResNet50 features are passed on to the subsequent LSTM based decoder. Finally both the encoder and the decoder are combined. We also keep one caption_image method that can be used for inference.**"
      ],
      "metadata": {
        "id": "v4fOc9zZ-FIw"
      }
    },
    {
      "cell_type": "code",
      "source": [
        "# TRAIN TEST SPLIT\n",
        "\n",
        "from sklearn.model_selection import train_test_split\n",
        "\n",
        "xTrain, xTest, yTrain, yTest = train_test_split(sortedD1ImgFiles, sortedD1LblFiles, test_size=0.1, random_state=42)\n",
        "print(len(xTrain))\n",
        "print(len(yTrain))\n",
        "print(len(xTest))\n",
        "print(len(yTest))"
      ],
      "metadata": {
        "colab": {
          "base_uri": "https://localhost:8080/"
        },
        "id": "W-rV5uWtnVAv",
        "outputId": "949ac923-bc29-4202-8338-55e4cdf71355"
      },
      "execution_count": 12,
      "outputs": [
        {
          "output_type": "stream",
          "name": "stdout",
          "text": [
            "270\n",
            "270\n",
            "30\n",
            "30\n"
          ]
        }
      ]
    },
    {
      "cell_type": "code",
      "source": [
        "# TRAIN LOOP\n",
        "\n",
        "import torch.optim as optim\n",
        "from torch.utils.tensorboard import SummaryWriter\n",
        "from tqdm import tqdm\n",
        "\n",
        "def train():\n",
        "    transform = transforms.Compose(\n",
        "        [\n",
        "            transforms.Resize((356, 356)),\n",
        "            transforms.RandomCrop((299, 299)),\n",
        "            transforms.ToTensor(),\n",
        "            transforms.Normalize((0.5, 0.5, 0.5), (0.5, 0.5, 0.5)),\n",
        "        ]\n",
        "    )\n",
        "\n",
        "    dataset = MyDataset(xTrain, transform)\n",
        "\n",
        "    train_loader = get_loader(\n",
        "        xTrain, \n",
        "        transform,\n",
        "    )\n",
        "\n",
        "    torch.backends.cudnn.benchmark = True\n",
        "    device = torch.device(\"cuda\" if torch.cuda.is_available() else \"cpu\")\n",
        "    load_model = False\n",
        "    save_model = False\n",
        "    train_CNN = False\n",
        "\n",
        "    # Hyperparameters\n",
        "    embed_size = 256\n",
        "    hidden_size = 256\n",
        "    vocab_size = len(dataset.vocab)\n",
        "    num_layers = 1\n",
        "    learning_rate = 3e-4\n",
        "    num_epochs = 100\n",
        "\n",
        "    # for tensorboard\n",
        "    writer = SummaryWriter(\"runs/TRCD_D1\")\n",
        "    step = 0\n",
        "\n",
        "    # initialize model, loss etc\n",
        "    model = CNNtoRNN(embed_size, hidden_size, vocab_size, num_layers).to(device)\n",
        "    criterion = nn.CrossEntropyLoss(ignore_index=dataset.vocab.stoi[\"<PAD>\"])\n",
        "    optimizer = optim.Adam(model.parameters(), lr=learning_rate)\n",
        "\n",
        "    # Only finetune the CNN\n",
        "    for name, param in model.encoderCNN.res.named_parameters():\n",
        "        if \"fc.weight\" in name or \"fc.bias\" in name:\n",
        "            param.requires_grad = True\n",
        "        else:\n",
        "            param.requires_grad = train_CNN\n",
        "\n",
        "    # if load_model:\n",
        "    #     step = load_checkpoint(torch.load(\"my_checkpoint.pth.tar\"), model, optimizer)\n",
        "\n",
        "    model.train()\n",
        "\n",
        "    for epoch in range(num_epochs):\n",
        "        epoch_loss = 0\n",
        "        num_batches = 0\n",
        "        # Uncomment the line below to see a couple of test cases\n",
        "        # print_examples(model, device, dataset)\n",
        "\n",
        "        # if save_model:\n",
        "        #     checkpoint = {\n",
        "        #         \"state_dict\": model.state_dict(),\n",
        "        #         \"optimizer\": optimizer.state_dict(),\n",
        "        #         \"step\": step,\n",
        "        #     }\n",
        "        #     save_checkpoint(checkpoint)\n",
        "\n",
        "        for idx, (imgs, captions) in tqdm(\n",
        "            enumerate(train_loader), total=len(train_loader), leave=False\n",
        "        ):\n",
        "            imgs = imgs.to(device)\n",
        "            captions = captions.to(device)\n",
        "\n",
        "            # print(imgs.shape)\n",
        "            # print(captions.shape)\n",
        "\n",
        "            outputs = model(imgs, captions[:-1])\n",
        "            loss = criterion(\n",
        "                outputs.reshape(-1, outputs.shape[2]), captions.reshape(-1)\n",
        "            )\n",
        "\n",
        "            writer.add_scalar(\"Training loss\", loss.item(), global_step=step)\n",
        "            \n",
        "            epoch_loss += loss.item()\n",
        "\n",
        "            num_batches += 1\n",
        "\n",
        "            step += 1\n",
        "\n",
        "            optimizer.zero_grad()\n",
        "            loss.backward(loss)\n",
        "            optimizer.step()\n",
        "\n",
        "        print(f\"Epoch {epoch+1} Loss is: {epoch_loss/num_batches}\")\n",
        "        \n",
        "    return model\n",
        "\n",
        "model = train()"
      ],
      "metadata": {
        "colab": {
          "base_uri": "https://localhost:8080/"
        },
        "id": "u4Q3LaKia7sM",
        "outputId": "26f9c088-d5b2-4315-a4df-382aa5e23e7b"
      },
      "execution_count": 25,
      "outputs": [
        {
          "output_type": "stream",
          "name": "stderr",
          "text": [
            "                                               "
          ]
        },
        {
          "output_type": "stream",
          "name": "stdout",
          "text": [
            "Epoch 1 Loss is: 2.674836705712711\n"
          ]
        },
        {
          "output_type": "stream",
          "name": "stderr",
          "text": [
            "                                               "
          ]
        },
        {
          "output_type": "stream",
          "name": "stdout",
          "text": [
            "Epoch 2 Loss is: 1.7476328401004566\n"
          ]
        },
        {
          "output_type": "stream",
          "name": "stderr",
          "text": [
            "                                               "
          ]
        },
        {
          "output_type": "stream",
          "name": "stdout",
          "text": [
            "Epoch 3 Loss is: 1.182451051824233\n"
          ]
        },
        {
          "output_type": "stream",
          "name": "stderr",
          "text": [
            "                                               "
          ]
        },
        {
          "output_type": "stream",
          "name": "stdout",
          "text": [
            "Epoch 4 Loss is: 0.9221726691021639\n"
          ]
        },
        {
          "output_type": "stream",
          "name": "stderr",
          "text": [
            "                                               "
          ]
        },
        {
          "output_type": "stream",
          "name": "stdout",
          "text": [
            "Epoch 5 Loss is: 0.7779644762768465\n"
          ]
        },
        {
          "output_type": "stream",
          "name": "stderr",
          "text": [
            "                                               "
          ]
        },
        {
          "output_type": "stream",
          "name": "stdout",
          "text": [
            "Epoch 6 Loss is: 0.6804875661345089\n"
          ]
        },
        {
          "output_type": "stream",
          "name": "stderr",
          "text": [
            "                                               "
          ]
        },
        {
          "output_type": "stream",
          "name": "stdout",
          "text": [
            "Epoch 7 Loss is: 0.6121225882979\n"
          ]
        },
        {
          "output_type": "stream",
          "name": "stderr",
          "text": [
            "                                               "
          ]
        },
        {
          "output_type": "stream",
          "name": "stdout",
          "text": [
            "Epoch 8 Loss is: 0.5647215422462014\n"
          ]
        },
        {
          "output_type": "stream",
          "name": "stderr",
          "text": [
            "                                               "
          ]
        },
        {
          "output_type": "stream",
          "name": "stdout",
          "text": [
            "Epoch 9 Loss is: 0.5297699430409599\n"
          ]
        },
        {
          "output_type": "stream",
          "name": "stderr",
          "text": [
            "                                               "
          ]
        },
        {
          "output_type": "stream",
          "name": "stdout",
          "text": [
            "Epoch 10 Loss is: 0.5039235458654516\n"
          ]
        },
        {
          "output_type": "stream",
          "name": "stderr",
          "text": [
            "                                               "
          ]
        },
        {
          "output_type": "stream",
          "name": "stdout",
          "text": [
            "Epoch 11 Loss is: 0.4824858290307662\n"
          ]
        },
        {
          "output_type": "stream",
          "name": "stderr",
          "text": [
            "                                               "
          ]
        },
        {
          "output_type": "stream",
          "name": "stdout",
          "text": [
            "Epoch 12 Loss is: 0.46529053239261403\n"
          ]
        },
        {
          "output_type": "stream",
          "name": "stderr",
          "text": [
            "                                               "
          ]
        },
        {
          "output_type": "stream",
          "name": "stdout",
          "text": [
            "Epoch 13 Loss is: 0.4511555503396427\n"
          ]
        },
        {
          "output_type": "stream",
          "name": "stderr",
          "text": [
            "                                               "
          ]
        },
        {
          "output_type": "stream",
          "name": "stdout",
          "text": [
            "Epoch 14 Loss is: 0.4389548739966224\n"
          ]
        },
        {
          "output_type": "stream",
          "name": "stderr",
          "text": [
            "                                               "
          ]
        },
        {
          "output_type": "stream",
          "name": "stdout",
          "text": [
            "Epoch 15 Loss is: 0.42675723924356346\n"
          ]
        },
        {
          "output_type": "stream",
          "name": "stderr",
          "text": [
            "                                               "
          ]
        },
        {
          "output_type": "stream",
          "name": "stdout",
          "text": [
            "Epoch 16 Loss is: 0.41659707707517285\n"
          ]
        },
        {
          "output_type": "stream",
          "name": "stderr",
          "text": [
            "                                               "
          ]
        },
        {
          "output_type": "stream",
          "name": "stdout",
          "text": [
            "Epoch 17 Loss is: 0.4060560850536122\n"
          ]
        },
        {
          "output_type": "stream",
          "name": "stderr",
          "text": [
            "                                               "
          ]
        },
        {
          "output_type": "stream",
          "name": "stdout",
          "text": [
            "Epoch 18 Loss is: 0.39433343971476836\n"
          ]
        },
        {
          "output_type": "stream",
          "name": "stderr",
          "text": [
            "                                               "
          ]
        },
        {
          "output_type": "stream",
          "name": "stdout",
          "text": [
            "Epoch 19 Loss is: 0.3846144518431495\n"
          ]
        },
        {
          "output_type": "stream",
          "name": "stderr",
          "text": [
            "                                               "
          ]
        },
        {
          "output_type": "stream",
          "name": "stdout",
          "text": [
            "Epoch 20 Loss is: 0.37420597146539125\n"
          ]
        },
        {
          "output_type": "stream",
          "name": "stderr",
          "text": [
            "                                               "
          ]
        },
        {
          "output_type": "stream",
          "name": "stdout",
          "text": [
            "Epoch 21 Loss is: 0.36434656907530394\n"
          ]
        },
        {
          "output_type": "stream",
          "name": "stderr",
          "text": [
            "                                               "
          ]
        },
        {
          "output_type": "stream",
          "name": "stdout",
          "text": [
            "Epoch 22 Loss is: 0.354183307465385\n"
          ]
        },
        {
          "output_type": "stream",
          "name": "stderr",
          "text": [
            "                                               "
          ]
        },
        {
          "output_type": "stream",
          "name": "stdout",
          "text": [
            "Epoch 23 Loss is: 0.34503770751111645\n"
          ]
        },
        {
          "output_type": "stream",
          "name": "stderr",
          "text": [
            "                                               "
          ]
        },
        {
          "output_type": "stream",
          "name": "stdout",
          "text": [
            "Epoch 24 Loss is: 0.33631935890983133\n"
          ]
        },
        {
          "output_type": "stream",
          "name": "stderr",
          "text": [
            "                                               "
          ]
        },
        {
          "output_type": "stream",
          "name": "stdout",
          "text": [
            "Epoch 25 Loss is: 0.3285917043685913\n"
          ]
        },
        {
          "output_type": "stream",
          "name": "stderr",
          "text": [
            "                                               "
          ]
        },
        {
          "output_type": "stream",
          "name": "stdout",
          "text": [
            "Epoch 26 Loss is: 0.3216562744449167\n"
          ]
        },
        {
          "output_type": "stream",
          "name": "stderr",
          "text": [
            "                                               "
          ]
        },
        {
          "output_type": "stream",
          "name": "stdout",
          "text": [
            "Epoch 27 Loss is: 0.31470586096539216\n"
          ]
        },
        {
          "output_type": "stream",
          "name": "stderr",
          "text": [
            "                                               "
          ]
        },
        {
          "output_type": "stream",
          "name": "stdout",
          "text": [
            "Epoch 28 Loss is: 0.30925510736072764\n"
          ]
        },
        {
          "output_type": "stream",
          "name": "stderr",
          "text": [
            "                                               "
          ]
        },
        {
          "output_type": "stream",
          "name": "stdout",
          "text": [
            "Epoch 29 Loss is: 0.3054376086767982\n"
          ]
        },
        {
          "output_type": "stream",
          "name": "stderr",
          "text": [
            "                                               "
          ]
        },
        {
          "output_type": "stream",
          "name": "stdout",
          "text": [
            "Epoch 30 Loss is: 0.301515107645708\n"
          ]
        },
        {
          "output_type": "stream",
          "name": "stderr",
          "text": [
            "                                               "
          ]
        },
        {
          "output_type": "stream",
          "name": "stdout",
          "text": [
            "Epoch 31 Loss is: 0.2971504593596739\n"
          ]
        },
        {
          "output_type": "stream",
          "name": "stderr",
          "text": [
            "                                               "
          ]
        },
        {
          "output_type": "stream",
          "name": "stdout",
          "text": [
            "Epoch 32 Loss is: 0.29420410534914804\n"
          ]
        },
        {
          "output_type": "stream",
          "name": "stderr",
          "text": [
            "                                               "
          ]
        },
        {
          "output_type": "stream",
          "name": "stdout",
          "text": [
            "Epoch 33 Loss is: 0.29174501580350537\n"
          ]
        },
        {
          "output_type": "stream",
          "name": "stderr",
          "text": [
            "                                               "
          ]
        },
        {
          "output_type": "stream",
          "name": "stdout",
          "text": [
            "Epoch 34 Loss is: 0.289542043910307\n"
          ]
        },
        {
          "output_type": "stream",
          "name": "stderr",
          "text": [
            "                                               "
          ]
        },
        {
          "output_type": "stream",
          "name": "stdout",
          "text": [
            "Epoch 35 Loss is: 0.28654350252712474\n"
          ]
        },
        {
          "output_type": "stream",
          "name": "stderr",
          "text": [
            "                                               "
          ]
        },
        {
          "output_type": "stream",
          "name": "stdout",
          "text": [
            "Epoch 36 Loss is: 0.2847408897736493\n"
          ]
        },
        {
          "output_type": "stream",
          "name": "stderr",
          "text": [
            "                                               "
          ]
        },
        {
          "output_type": "stream",
          "name": "stdout",
          "text": [
            "Epoch 37 Loss is: 0.28294407269533944\n"
          ]
        },
        {
          "output_type": "stream",
          "name": "stderr",
          "text": [
            "                                               "
          ]
        },
        {
          "output_type": "stream",
          "name": "stdout",
          "text": [
            "Epoch 38 Loss is: 0.28158848601229053\n"
          ]
        },
        {
          "output_type": "stream",
          "name": "stderr",
          "text": [
            "                                               "
          ]
        },
        {
          "output_type": "stream",
          "name": "stdout",
          "text": [
            "Epoch 39 Loss is: 0.278347851598964\n"
          ]
        },
        {
          "output_type": "stream",
          "name": "stderr",
          "text": [
            "                                               "
          ]
        },
        {
          "output_type": "stream",
          "name": "stdout",
          "text": [
            "Epoch 40 Loss is: 0.27752354741096497\n"
          ]
        },
        {
          "output_type": "stream",
          "name": "stderr",
          "text": [
            "                                               "
          ]
        },
        {
          "output_type": "stream",
          "name": "stdout",
          "text": [
            "Epoch 41 Loss is: 0.2758198187631719\n"
          ]
        },
        {
          "output_type": "stream",
          "name": "stderr",
          "text": [
            "                                               "
          ]
        },
        {
          "output_type": "stream",
          "name": "stdout",
          "text": [
            "Epoch 42 Loss is: 0.2756042603184195\n"
          ]
        },
        {
          "output_type": "stream",
          "name": "stderr",
          "text": [
            "                                               "
          ]
        },
        {
          "output_type": "stream",
          "name": "stdout",
          "text": [
            "Epoch 43 Loss is: 0.2737058839377235\n"
          ]
        },
        {
          "output_type": "stream",
          "name": "stderr",
          "text": [
            "                                               "
          ]
        },
        {
          "output_type": "stream",
          "name": "stdout",
          "text": [
            "Epoch 44 Loss is: 0.27291620829526114\n"
          ]
        },
        {
          "output_type": "stream",
          "name": "stderr",
          "text": [
            "                                               "
          ]
        },
        {
          "output_type": "stream",
          "name": "stdout",
          "text": [
            "Epoch 45 Loss is: 0.27219780578332786\n"
          ]
        },
        {
          "output_type": "stream",
          "name": "stderr",
          "text": [
            "                                               "
          ]
        },
        {
          "output_type": "stream",
          "name": "stdout",
          "text": [
            "Epoch 46 Loss is: 0.2706749737262726\n"
          ]
        },
        {
          "output_type": "stream",
          "name": "stderr",
          "text": [
            "                                               "
          ]
        },
        {
          "output_type": "stream",
          "name": "stdout",
          "text": [
            "Epoch 47 Loss is: 0.26933860077577476\n"
          ]
        },
        {
          "output_type": "stream",
          "name": "stderr",
          "text": [
            "                                               "
          ]
        },
        {
          "output_type": "stream",
          "name": "stdout",
          "text": [
            "Epoch 48 Loss is: 0.2680388215710135\n"
          ]
        },
        {
          "output_type": "stream",
          "name": "stderr",
          "text": [
            "                                               "
          ]
        },
        {
          "output_type": "stream",
          "name": "stdout",
          "text": [
            "Epoch 49 Loss is: 0.2670018830720116\n"
          ]
        },
        {
          "output_type": "stream",
          "name": "stderr",
          "text": [
            "                                               "
          ]
        },
        {
          "output_type": "stream",
          "name": "stdout",
          "text": [
            "Epoch 50 Loss is: 0.26608194498454824\n"
          ]
        },
        {
          "output_type": "stream",
          "name": "stderr",
          "text": [
            "                                               "
          ]
        },
        {
          "output_type": "stream",
          "name": "stdout",
          "text": [
            "Epoch 51 Loss is: 0.26563114629072304\n"
          ]
        },
        {
          "output_type": "stream",
          "name": "stderr",
          "text": [
            "                                               "
          ]
        },
        {
          "output_type": "stream",
          "name": "stdout",
          "text": [
            "Epoch 52 Loss is: 0.2639429306282717\n"
          ]
        },
        {
          "output_type": "stream",
          "name": "stderr",
          "text": [
            "                                               "
          ]
        },
        {
          "output_type": "stream",
          "name": "stdout",
          "text": [
            "Epoch 53 Loss is: 0.2637972954441519\n"
          ]
        },
        {
          "output_type": "stream",
          "name": "stderr",
          "text": [
            "                                               "
          ]
        },
        {
          "output_type": "stream",
          "name": "stdout",
          "text": [
            "Epoch 54 Loss is: 0.26213732712409077\n"
          ]
        },
        {
          "output_type": "stream",
          "name": "stderr",
          "text": [
            "                                               "
          ]
        },
        {
          "output_type": "stream",
          "name": "stdout",
          "text": [
            "Epoch 55 Loss is: 0.2616184827159433\n"
          ]
        },
        {
          "output_type": "stream",
          "name": "stderr",
          "text": [
            "                                               "
          ]
        },
        {
          "output_type": "stream",
          "name": "stdout",
          "text": [
            "Epoch 56 Loss is: 0.25977972675772276\n"
          ]
        },
        {
          "output_type": "stream",
          "name": "stderr",
          "text": [
            "                                               "
          ]
        },
        {
          "output_type": "stream",
          "name": "stdout",
          "text": [
            "Epoch 57 Loss is: 0.25950738261727724\n"
          ]
        },
        {
          "output_type": "stream",
          "name": "stderr",
          "text": [
            "                                               "
          ]
        },
        {
          "output_type": "stream",
          "name": "stdout",
          "text": [
            "Epoch 58 Loss is: 0.2587471008300781\n"
          ]
        },
        {
          "output_type": "stream",
          "name": "stderr",
          "text": [
            "                                               "
          ]
        },
        {
          "output_type": "stream",
          "name": "stdout",
          "text": [
            "Epoch 59 Loss is: 0.2571893422042622\n"
          ]
        },
        {
          "output_type": "stream",
          "name": "stderr",
          "text": [
            "                                               "
          ]
        },
        {
          "output_type": "stream",
          "name": "stdout",
          "text": [
            "Epoch 60 Loss is: 0.2560134556363611\n"
          ]
        },
        {
          "output_type": "stream",
          "name": "stderr",
          "text": [
            "                                               "
          ]
        },
        {
          "output_type": "stream",
          "name": "stdout",
          "text": [
            "Epoch 61 Loss is: 0.2547847286743276\n"
          ]
        },
        {
          "output_type": "stream",
          "name": "stderr",
          "text": [
            "                                               "
          ]
        },
        {
          "output_type": "stream",
          "name": "stdout",
          "text": [
            "Epoch 62 Loss is: 0.2531529673758675\n"
          ]
        },
        {
          "output_type": "stream",
          "name": "stderr",
          "text": [
            "                                               "
          ]
        },
        {
          "output_type": "stream",
          "name": "stdout",
          "text": [
            "Epoch 63 Loss is: 0.25253570781034584\n"
          ]
        },
        {
          "output_type": "stream",
          "name": "stderr",
          "text": [
            "                                               "
          ]
        },
        {
          "output_type": "stream",
          "name": "stdout",
          "text": [
            "Epoch 64 Loss is: 0.2520181063343497\n"
          ]
        },
        {
          "output_type": "stream",
          "name": "stderr",
          "text": [
            "                                               "
          ]
        },
        {
          "output_type": "stream",
          "name": "stdout",
          "text": [
            "Epoch 65 Loss is: 0.25213170402190266\n"
          ]
        },
        {
          "output_type": "stream",
          "name": "stderr",
          "text": [
            "                                               "
          ]
        },
        {
          "output_type": "stream",
          "name": "stdout",
          "text": [
            "Epoch 66 Loss is: 0.2522500472910264\n"
          ]
        },
        {
          "output_type": "stream",
          "name": "stderr",
          "text": [
            "                                               "
          ]
        },
        {
          "output_type": "stream",
          "name": "stdout",
          "text": [
            "Epoch 67 Loss is: 0.25077466316082897\n"
          ]
        },
        {
          "output_type": "stream",
          "name": "stderr",
          "text": [
            "                                               "
          ]
        },
        {
          "output_type": "stream",
          "name": "stdout",
          "text": [
            "Epoch 68 Loss is: 0.24842742786687963\n"
          ]
        },
        {
          "output_type": "stream",
          "name": "stderr",
          "text": [
            "                                               "
          ]
        },
        {
          "output_type": "stream",
          "name": "stdout",
          "text": [
            "Epoch 69 Loss is: 0.24872611200108247\n"
          ]
        },
        {
          "output_type": "stream",
          "name": "stderr",
          "text": [
            "                                               "
          ]
        },
        {
          "output_type": "stream",
          "name": "stdout",
          "text": [
            "Epoch 70 Loss is: 0.24761918537756977\n"
          ]
        },
        {
          "output_type": "stream",
          "name": "stderr",
          "text": [
            "                                               "
          ]
        },
        {
          "output_type": "stream",
          "name": "stdout",
          "text": [
            "Epoch 71 Loss is: 0.24757279543315663\n"
          ]
        },
        {
          "output_type": "stream",
          "name": "stderr",
          "text": [
            "                                               "
          ]
        },
        {
          "output_type": "stream",
          "name": "stdout",
          "text": [
            "Epoch 72 Loss is: 0.24621157348155975\n"
          ]
        },
        {
          "output_type": "stream",
          "name": "stderr",
          "text": [
            "                                               "
          ]
        },
        {
          "output_type": "stream",
          "name": "stdout",
          "text": [
            "Epoch 73 Loss is: 0.2459979846197016\n"
          ]
        },
        {
          "output_type": "stream",
          "name": "stderr",
          "text": [
            "                                               "
          ]
        },
        {
          "output_type": "stream",
          "name": "stdout",
          "text": [
            "Epoch 74 Loss is: 0.24589987011516795\n"
          ]
        },
        {
          "output_type": "stream",
          "name": "stderr",
          "text": [
            "                                               "
          ]
        },
        {
          "output_type": "stream",
          "name": "stdout",
          "text": [
            "Epoch 75 Loss is: 0.24473788808373845\n"
          ]
        },
        {
          "output_type": "stream",
          "name": "stderr",
          "text": [
            "                                               "
          ]
        },
        {
          "output_type": "stream",
          "name": "stdout",
          "text": [
            "Epoch 76 Loss is: 0.24441427430685828\n"
          ]
        },
        {
          "output_type": "stream",
          "name": "stderr",
          "text": [
            "                                               "
          ]
        },
        {
          "output_type": "stream",
          "name": "stdout",
          "text": [
            "Epoch 77 Loss is: 0.2431465036728803\n"
          ]
        },
        {
          "output_type": "stream",
          "name": "stderr",
          "text": [
            "                                               "
          ]
        },
        {
          "output_type": "stream",
          "name": "stdout",
          "text": [
            "Epoch 78 Loss is: 0.24341736646259532\n"
          ]
        },
        {
          "output_type": "stream",
          "name": "stderr",
          "text": [
            "                                               "
          ]
        },
        {
          "output_type": "stream",
          "name": "stdout",
          "text": [
            "Epoch 79 Loss is: 0.24299101619159474\n"
          ]
        },
        {
          "output_type": "stream",
          "name": "stderr",
          "text": [
            "                                               "
          ]
        },
        {
          "output_type": "stream",
          "name": "stdout",
          "text": [
            "Epoch 80 Loss is: 0.24272753648898182\n"
          ]
        },
        {
          "output_type": "stream",
          "name": "stderr",
          "text": [
            "                                               "
          ]
        },
        {
          "output_type": "stream",
          "name": "stdout",
          "text": [
            "Epoch 81 Loss is: 0.24182908324634328\n"
          ]
        },
        {
          "output_type": "stream",
          "name": "stderr",
          "text": [
            "                                               "
          ]
        },
        {
          "output_type": "stream",
          "name": "stdout",
          "text": [
            "Epoch 82 Loss is: 0.24217190111384673\n"
          ]
        },
        {
          "output_type": "stream",
          "name": "stderr",
          "text": [
            "                                               "
          ]
        },
        {
          "output_type": "stream",
          "name": "stdout",
          "text": [
            "Epoch 83 Loss is: 0.24276978128096638\n"
          ]
        },
        {
          "output_type": "stream",
          "name": "stderr",
          "text": [
            "                                               "
          ]
        },
        {
          "output_type": "stream",
          "name": "stdout",
          "text": [
            "Epoch 84 Loss is: 0.2415205634692136\n"
          ]
        },
        {
          "output_type": "stream",
          "name": "stderr",
          "text": [
            "                                               "
          ]
        },
        {
          "output_type": "stream",
          "name": "stdout",
          "text": [
            "Epoch 85 Loss is: 0.2408343369469923\n"
          ]
        },
        {
          "output_type": "stream",
          "name": "stderr",
          "text": [
            "                                               "
          ]
        },
        {
          "output_type": "stream",
          "name": "stdout",
          "text": [
            "Epoch 86 Loss is: 0.24057188542450175\n"
          ]
        },
        {
          "output_type": "stream",
          "name": "stderr",
          "text": [
            "                                               "
          ]
        },
        {
          "output_type": "stream",
          "name": "stdout",
          "text": [
            "Epoch 87 Loss is: 0.240324591012562\n"
          ]
        },
        {
          "output_type": "stream",
          "name": "stderr",
          "text": [
            "                                               "
          ]
        },
        {
          "output_type": "stream",
          "name": "stdout",
          "text": [
            "Epoch 88 Loss is: 0.24039249998681686\n"
          ]
        },
        {
          "output_type": "stream",
          "name": "stderr",
          "text": [
            "                                               "
          ]
        },
        {
          "output_type": "stream",
          "name": "stdout",
          "text": [
            "Epoch 89 Loss is: 0.23995152203475728\n"
          ]
        },
        {
          "output_type": "stream",
          "name": "stderr",
          "text": [
            "                                               "
          ]
        },
        {
          "output_type": "stream",
          "name": "stdout",
          "text": [
            "Epoch 90 Loss is: 0.23931793254964492\n"
          ]
        },
        {
          "output_type": "stream",
          "name": "stderr",
          "text": [
            "                                               "
          ]
        },
        {
          "output_type": "stream",
          "name": "stdout",
          "text": [
            "Epoch 91 Loss is: 0.2390593228971257\n"
          ]
        },
        {
          "output_type": "stream",
          "name": "stderr",
          "text": [
            "                                               "
          ]
        },
        {
          "output_type": "stream",
          "name": "stdout",
          "text": [
            "Epoch 92 Loss is: 0.2383405434734681\n"
          ]
        },
        {
          "output_type": "stream",
          "name": "stderr",
          "text": [
            "                                               "
          ]
        },
        {
          "output_type": "stream",
          "name": "stdout",
          "text": [
            "Epoch 93 Loss is: 0.23885785130893483\n"
          ]
        },
        {
          "output_type": "stream",
          "name": "stderr",
          "text": [
            "                                               "
          ]
        },
        {
          "output_type": "stream",
          "name": "stdout",
          "text": [
            "Epoch 94 Loss is: 0.2378099113702774\n"
          ]
        },
        {
          "output_type": "stream",
          "name": "stderr",
          "text": [
            "                                               "
          ]
        },
        {
          "output_type": "stream",
          "name": "stdout",
          "text": [
            "Epoch 95 Loss is: 0.23807390735429876\n"
          ]
        },
        {
          "output_type": "stream",
          "name": "stderr",
          "text": [
            "                                               "
          ]
        },
        {
          "output_type": "stream",
          "name": "stdout",
          "text": [
            "Epoch 96 Loss is: 0.23757820357294643\n"
          ]
        },
        {
          "output_type": "stream",
          "name": "stderr",
          "text": [
            "                                               "
          ]
        },
        {
          "output_type": "stream",
          "name": "stdout",
          "text": [
            "Epoch 97 Loss is: 0.2375069278128007\n"
          ]
        },
        {
          "output_type": "stream",
          "name": "stderr",
          "text": [
            "                                               "
          ]
        },
        {
          "output_type": "stream",
          "name": "stdout",
          "text": [
            "Epoch 98 Loss is: 0.23744341643417582\n"
          ]
        },
        {
          "output_type": "stream",
          "name": "stderr",
          "text": [
            "                                               "
          ]
        },
        {
          "output_type": "stream",
          "name": "stdout",
          "text": [
            "Epoch 99 Loss is: 0.2369435867842506\n"
          ]
        },
        {
          "output_type": "stream",
          "name": "stderr",
          "text": [
            "                                               "
          ]
        },
        {
          "output_type": "stream",
          "name": "stdout",
          "text": [
            "Epoch 100 Loss is: 0.2379522235954509\n"
          ]
        },
        {
          "output_type": "stream",
          "name": "stderr",
          "text": [
            "\r"
          ]
        }
      ]
    },
    {
      "cell_type": "markdown",
      "source": [
        "**Above we write the model training code. 100 epochs are considered in this particular work.**"
      ],
      "metadata": {
        "id": "rfgMA4o7-lkx"
      }
    },
    {
      "cell_type": "code",
      "source": [
        "# SAVE MODEL\n",
        "model_save_name = 'PRCD_D1_RS42_100Epoch_NoVal_Model_1.pt'\n",
        "\n",
        "torch.save(model.state_dict(), model_save_name)"
      ],
      "metadata": {
        "id": "adA2IcpNwjJ2"
      },
      "execution_count": 29,
      "outputs": []
    },
    {
      "cell_type": "code",
      "source": [
        "# LOAD MODEL\n",
        "\n",
        "load_path = \"PRCD_D1_RS42_100Epoch_NoVal_Model_1.pt\" \n",
        "model.load_state_dict(torch.load(load_path))"
      ],
      "metadata": {
        "colab": {
          "base_uri": "https://localhost:8080/"
        },
        "id": "uDO_FTfZxQr4",
        "outputId": "84658e7e-1927-4940-f5ed-b749fac539af"
      },
      "execution_count": 30,
      "outputs": [
        {
          "output_type": "execute_result",
          "data": {
            "text/plain": [
              "<All keys matched successfully>"
            ]
          },
          "metadata": {},
          "execution_count": 30
        }
      ]
    },
    {
      "cell_type": "markdown",
      "source": [
        "**Once the trained model is available, we can perform inference and check our results.**"
      ],
      "metadata": {
        "id": "urSgOAiH-yzq"
      }
    },
    {
      "cell_type": "code",
      "source": [
        "# Visualize INFERENCE Results\n",
        "\n",
        "num_viz = 3\n",
        "count_viz = 0\n",
        "\n",
        "for testSample in xTest:\n",
        "  img_viz = Image.open(testSample).convert(\"RGB\")\n",
        "  img_viz.show()\n",
        "  print(\"Correct Caption: \\n\")\n",
        "  captionPath = testSample.replace('.png','.gui').replace('/IMAGES/','/TEXT_LABELS/')\n",
        "  with open(captionPath, \"r\") as f:\n",
        "    lines = f.readlines()\n",
        "  caption = ' \\n'.join(lines)\n",
        "  print(caption)\n",
        "  transform = transforms.Compose([\n",
        "            transforms.Resize((299, 299)),\n",
        "            transforms.ToTensor(),\n",
        "            transforms.Normalize((0.5, 0.5, 0.5), (0.5, 0.5, 0.5)),\n",
        "        ]\n",
        "    )\n",
        "  dataset = MyDataset(xTrain, transform)\n",
        "  device = torch.device(\"cuda\" if torch.cuda.is_available() else \"cpu\")\n",
        "  model.eval()\n",
        "  test_img = transform(Image.open(testSample).convert(\"RGB\")).unsqueeze(0)\n",
        "  print(\"Predicted Caption: \\n\")\n",
        "  print(\" \".join(model.caption_image(test_img.to(device), dataset.vocab)))\n",
        "\n",
        "  count_viz += 1\n",
        "\n",
        "  if count_viz == num_viz:\n",
        "    break"
      ],
      "metadata": {
        "colab": {
          "base_uri": "https://localhost:8080/",
          "height": 1000
        },
        "id": "URdp1d5rtpNY",
        "outputId": "bea73b83-6ea3-4316-fc7e-64cf61f2f684"
      },
      "execution_count": 32,
      "outputs": [
        {
          "output_type": "display_data",
          "data": {
            "text/plain": [
              "<PIL.Image.Image image mode=RGB size=1850x900 at 0x7F963846F790>"
            ],
            "image/png": "[encoded data removed]"
          },
          "metadata": {}
        },
        {
          "output_type": "stream",
          "name": "stdout",
          "text": [
            "Correct Caption: \n",
            "\n",
            "header {\n",
            " \n",
            "btn-inactive, btn-active, btn-inactive, btn-inactive\n",
            " \n",
            "}\n",
            " \n",
            "row {\n",
            " \n",
            "single {\n",
            " \n",
            "small-title, text, btn-orange\n",
            " \n",
            "}\n",
            " \n",
            "}\n",
            " \n",
            "row {\n",
            " \n",
            "double {\n",
            " \n",
            "small-title, text, btn-green\n",
            " \n",
            "}\n",
            " \n",
            "double {\n",
            " \n",
            "small-title, text, btn-orange\n",
            " \n",
            "}\n",
            " \n",
            "}\n",
            "\n",
            "Predicted Caption: \n",
            "\n",
            "<SOS> header {\n",
            " \n",
            "btn-inactive, btn-inactive, btn-active\n",
            " \n",
            "}\n",
            " \n",
            "row {\n",
            " \n",
            "double {\n",
            " \n",
            "small-title, text, btn-green\n",
            " \n",
            "}\n",
            " \n",
            "double {\n",
            " \n",
            "small-title, text, btn-red\n",
            " \n",
            "}\n",
            " \n",
            "}\n",
            " \n",
            "row {\n",
            " \n",
            "quadruple {\n",
            " \n",
            "small-title, text, btn-green\n",
            " \n",
            "}\n",
            " \n",
            "quadruple {\n",
            " \n",
            "small-title, text, btn-green\n",
            " \n",
            "}\n",
            " \n",
            "quadruple {\n",
            " \n",
            "small-title, text, btn-orange\n",
            " \n",
            "}\n",
            " \n",
            "quadruple {\n",
            " \n",
            "small-title, text, btn-green\n",
            " \n",
            "}\n",
            " \n",
            "}\n",
            " \n",
            "row\n"
          ]
        },
        {
          "output_type": "display_data",
          "data": {
            "text/plain": [
              "<PIL.Image.Image image mode=RGB size=1850x900 at 0x7F97FC4F6640>"
            ],
            "image/png": "[encoded data removed]"
          },
          "metadata": {}
        },
        {
          "output_type": "stream",
          "name": "stdout",
          "text": [
            "Correct Caption: \n",
            "\n",
            "header {\n",
            " \n",
            "btn-inactive, btn-inactive, btn-active\n",
            " \n",
            "}\n",
            " \n",
            "row {\n",
            " \n",
            "quadruple {\n",
            " \n",
            "small-title, text, btn-red\n",
            " \n",
            "}\n",
            " \n",
            "quadruple {\n",
            " \n",
            "small-title, text, btn-red\n",
            " \n",
            "}\n",
            " \n",
            "quadruple {\n",
            " \n",
            "small-title, text, btn-green\n",
            " \n",
            "}\n",
            " \n",
            "quadruple {\n",
            " \n",
            "small-title, text, btn-red\n",
            " \n",
            "}\n",
            " \n",
            "}\n",
            "\n",
            "Predicted Caption: \n",
            "\n",
            "<SOS> header {\n",
            " \n",
            "btn-inactive, btn-inactive, btn-active\n",
            " \n",
            "}\n",
            " \n",
            "row {\n",
            " \n",
            "double {\n",
            " \n",
            "small-title, text, btn-green\n",
            " \n",
            "}\n",
            " \n",
            "double {\n",
            " \n",
            "small-title, text, btn-red\n",
            " \n",
            "}\n",
            " \n",
            "}\n",
            " \n",
            "row {\n",
            " \n",
            "quadruple {\n",
            " \n",
            "small-title, text, btn-green\n",
            " \n",
            "}\n",
            " \n",
            "quadruple {\n",
            " \n",
            "small-title, text, btn-green\n",
            " \n",
            "}\n",
            " \n",
            "quadruple {\n",
            " \n",
            "small-title, text, btn-orange\n",
            " \n",
            "}\n",
            " \n",
            "quadruple {\n",
            " \n",
            "small-title, text, btn-green\n",
            " \n",
            "}\n",
            " \n",
            "}\n",
            " \n",
            "row\n"
          ]
        },
        {
          "output_type": "display_data",
          "data": {
            "text/plain": [
              "<PIL.Image.Image image mode=RGB size=1850x900 at 0x7F9638459D00>"
            ],
            "image/png": "[encoded data removed]"
          },
          "metadata": {}
        },
        {
          "output_type": "stream",
          "name": "stdout",
          "text": [
            "Correct Caption: \n",
            "\n",
            "header {\n",
            " \n",
            "btn-inactive, btn-inactive, btn-inactive, btn-active\n",
            " \n",
            "}\n",
            " \n",
            "row {\n",
            " \n",
            "quadruple {\n",
            " \n",
            "small-title, text, btn-red\n",
            " \n",
            "}\n",
            " \n",
            "quadruple {\n",
            " \n",
            "small-title, text, btn-orange\n",
            " \n",
            "}\n",
            " \n",
            "quadruple {\n",
            " \n",
            "small-title, text, btn-green\n",
            " \n",
            "}\n",
            " \n",
            "quadruple {\n",
            " \n",
            "small-title, text, btn-red\n",
            " \n",
            "}\n",
            " \n",
            "}\n",
            " \n",
            "row {\n",
            " \n",
            "single {\n",
            " \n",
            "small-title, text, btn-green\n",
            " \n",
            "}\n",
            " \n",
            "}\n",
            " \n",
            "row {\n",
            " \n",
            "double {\n",
            " \n",
            "small-title, text, btn-red\n",
            " \n",
            "}\n",
            " \n",
            "double {\n",
            " \n",
            "small-title, text, btn-red\n",
            " \n",
            "}\n",
            " \n",
            "}\n",
            "\n",
            "Predicted Caption: \n",
            "\n",
            "<SOS> header {\n",
            " \n",
            "btn-inactive, btn-inactive, btn-active\n",
            " \n",
            "}\n",
            " \n",
            "row {\n",
            " \n",
            "double {\n",
            " \n",
            "small-title, text, btn-green\n",
            " \n",
            "}\n",
            " \n",
            "double {\n",
            " \n",
            "small-title, text, btn-red\n",
            " \n",
            "}\n",
            " \n",
            "}\n",
            " \n",
            "row {\n",
            " \n",
            "quadruple {\n",
            " \n",
            "small-title, text, btn-green\n",
            " \n",
            "}\n",
            " \n",
            "quadruple {\n",
            " \n",
            "small-title, text, btn-green\n",
            " \n",
            "}\n",
            " \n",
            "quadruple {\n",
            " \n",
            "small-title, text, btn-orange\n",
            " \n",
            "}\n",
            " \n",
            "quadruple {\n",
            " \n",
            "small-title, text, btn-green\n",
            " \n",
            "}\n",
            " \n",
            "}\n",
            " \n",
            "row\n"
          ]
        }
      ]
    },
    {
      "cell_type": "markdown",
      "source": [
        "**We observe that even though there are some inaccuracies present with the output, we are still able to generate decent UI code with such a small dataset to work with.**"
      ],
      "metadata": {
        "id": "cLejYjEt-4lM"
      }
    },
    {
      "cell_type": "markdown",
      "source": [
        "**EVALUATE PREDICTIONS VIA ROUGE SCORES**"
      ],
      "metadata": {
        "id": "_v_JBSdE4OHd"
      }
    },
    {
      "cell_type": "code",
      "source": [
        "import locale\n",
        "locale.getpreferredencoding = lambda: \"UTF-8\""
      ],
      "metadata": {
        "id": "6rqmpVTH4LFL"
      },
      "execution_count": 40,
      "outputs": []
    },
    {
      "cell_type": "code",
      "source": [
        "!pip install rouge-score"
      ],
      "metadata": {
        "colab": {
          "base_uri": "https://localhost:8080/"
        },
        "id": "Uy0UpXsl5Dlk",
        "outputId": "0eefd631-d003-4f9d-e95a-f9f39a65b160"
      },
      "execution_count": 41,
      "outputs": [
        {
          "output_type": "stream",
          "name": "stdout",
          "text": [
            "Looking in indexes: https://pypi.org/simple, https://us-python.pkg.dev/colab-wheels/public/simple/\n",
            "Collecting rouge-score\n",
            "  Downloading rouge_score-0.1.2.tar.gz (17 kB)\n",
            "  Preparing metadata (setup.py) ... \u001b[?25l\u001b[?25hdone\n",
            "Requirement already satisfied: absl-py in /usr/local/lib/python3.9/dist-packages (from rouge-score) (1.4.0)\n",
            "Requirement already satisfied: nltk in /usr/local/lib/python3.9/dist-packages (from rouge-score) (3.8.1)\n",
            "Requirement already satisfied: numpy in /usr/local/lib/python3.9/dist-packages (from rouge-score) (1.22.4)\n",
            "Requirement already satisfied: six>=1.14.0 in /usr/local/lib/python3.9/dist-packages (from rouge-score) (1.16.0)\n",
            "Requirement already satisfied: tqdm in /usr/local/lib/python3.9/dist-packages (from nltk->rouge-score) (4.65.0)\n",
            "Requirement already satisfied: regex>=2021.8.3 in /usr/local/lib/python3.9/dist-packages (from nltk->rouge-score) (2022.10.31)\n",
            "Requirement already satisfied: joblib in /usr/local/lib/python3.9/dist-packages (from nltk->rouge-score) (1.1.1)\n",
            "Requirement already satisfied: click in /usr/local/lib/python3.9/dist-packages (from nltk->rouge-score) (8.1.3)\n",
            "Building wheels for collected packages: rouge-score\n",
            "  Building wheel for rouge-score (setup.py) ... \u001b[?25l\u001b[?25hdone\n",
            "  Created wheel for rouge-score: filename=rouge_score-0.1.2-py3-none-any.whl size=24954 sha256=78859cb80baed4fb7214b0c61915483e49e503af71c8f437d0ff81a7bf789fc5\n",
            "  Stored in directory: /root/.cache/pip/wheels/9b/3d/39/09558097d3119ca0a4d462df68f22c6f3c1b345ac63a09b86e\n",
            "Successfully built rouge-score\n",
            "Installing collected packages: rouge-score\n",
            "Successfully installed rouge-score-0.1.2\n"
          ]
        }
      ]
    },
    {
      "cell_type": "code",
      "source": [
        "# EVALUATE USING ROUGE SCORES\n",
        "from rouge_score import rouge_scorer\n",
        "\n",
        "allTestGT = []\n",
        "allTestPred = []\n",
        "\n",
        "for item in xTest:\n",
        "  captionPath = item.replace('.png','.gui').replace('/IMAGES/','/TEXT_LABELS/')\n",
        "  with open(captionPath, \"r\") as f:\n",
        "    lines = f.readlines()\n",
        "  caption = ' \\n'.join(lines)\n",
        "  allTestGT.append(caption)\n",
        "  transform = transforms.Compose([\n",
        "            transforms.Resize((299, 299)),\n",
        "            transforms.ToTensor(),\n",
        "            transforms.Normalize((0.5, 0.5, 0.5), (0.5, 0.5, 0.5)),\n",
        "        ]\n",
        "    )\n",
        "  dataset = MyDataset(xTrain, transform)\n",
        "  device = torch.device(\"cuda\" if torch.cuda.is_available() else \"cpu\")\n",
        "  model.eval()\n",
        "  test_img = transform(Image.open(testSample).convert(\"RGB\")).unsqueeze(0)\n",
        "  \n",
        "  allTestPred.append(\" \".join(model.caption_image(test_img.to(device), dataset.vocab)).replace('<SOS> ',''))\n",
        "print(len(allTestGT))\n",
        "print(len(allTestPred))"
      ],
      "metadata": {
        "colab": {
          "base_uri": "https://localhost:8080/"
        },
        "id": "wGeDRJ4Ctfi1",
        "outputId": "3453462a-b645-4f1f-e244-f04862046aaa"
      },
      "execution_count": 43,
      "outputs": [
        {
          "output_type": "stream",
          "name": "stdout",
          "text": [
            "30\n",
            "30\n"
          ]
        }
      ]
    },
    {
      "cell_type": "code",
      "source": [
        "scorer = rouge_scorer.RougeScorer(['rouge1','rouge2', 'rougeL'], use_stemmer=False)"
      ],
      "metadata": {
        "id": "YEkTH6wD5yYx"
      },
      "execution_count": 47,
      "outputs": []
    },
    {
      "cell_type": "code",
      "source": [
        "import numpy as np\n",
        "\n",
        "r1_prec_list = []\n",
        "r1_rec_list = []\n",
        "r1_f1_list = []\n",
        "\n",
        "r2_prec_list = []\n",
        "r2_rec_list = []\n",
        "r2_f1_list = []\n",
        "\n",
        "rL_prec_list = []\n",
        "rL_rec_list = []\n",
        "rL_f1_list = []\n",
        "\n",
        "for i in range(len(allTestGT)):\n",
        "  allScores = scorer.score(allTestGT[i], allTestPred[i])\n",
        "\n",
        "  r1_prec_list.append(allScores['rouge1'].precision)\n",
        "  r1_rec_list.append(allScores['rouge1'].recall)\n",
        "  r1_f1_list.append(allScores['rouge1'].fmeasure)\n",
        "\n",
        "  r2_prec_list.append(allScores['rouge2'].precision)\n",
        "  r2_rec_list.append(allScores['rouge2'].recall)\n",
        "  r2_f1_list.append(allScores['rouge2'].fmeasure)\n",
        "\n",
        "  rL_prec_list.append(allScores['rougeL'].precision)\n",
        "  rL_rec_list.append(allScores['rougeL'].recall)\n",
        "  rL_f1_list.append(allScores['rougeL'].fmeasure)\n",
        "\n",
        "print(\"Average ROUGE-1 Precision: \",np.mean(r1_prec_list))\n",
        "print(\"Average ROUGE-1 Recall: \",np.mean(r1_rec_list))\n",
        "print(\"Average ROUGE-1 F1-Score: \",np.mean(r1_f1_list))\n",
        "\n",
        "print(\"Average ROUGE-2 Precision: \",np.mean(r2_prec_list))\n",
        "print(\"Average ROUGE-2 Recall: \",np.mean(r2_rec_list))\n",
        "print(\"Average ROUGE-2 F1-Score: \",np.mean(r2_f1_list))\n",
        "\n",
        "print(\"Average ROUGE-L Precision: \",np.mean(rL_prec_list))\n",
        "print(\"Average ROUGE-L Recall: \",np.mean(rL_rec_list))\n",
        "print(\"Average ROUGE-L F1-Score: \",np.mean(rL_f1_list))"
      ],
      "metadata": {
        "colab": {
          "base_uri": "https://localhost:8080/"
        },
        "id": "6-a4b2n66Jwc",
        "outputId": "2222dc6c-8349-4f2b-83e4-88642099f1ee"
      },
      "execution_count": 51,
      "outputs": [
        {
          "output_type": "stream",
          "name": "stdout",
          "text": [
            "Average ROUGE-1 Precision:  0.822463768115942\n",
            "Average ROUGE-1 Recall:  0.8557450995106018\n",
            "Average ROUGE-1 F1-Score:  0.8139556857474564\n",
            "Average ROUGE-2 Precision:  0.7400000000000001\n",
            "Average ROUGE-2 Recall:  0.7648442813417216\n",
            "Average ROUGE-2 F1-Score:  0.7295767980059616\n",
            "Average ROUGE-L Precision:  0.7188405797101448\n",
            "Average ROUGE-L Recall:  0.7548145498142127\n",
            "Average ROUGE-L F1-Score:  0.7132111491149764\n"
          ]
        }
      ]
    },
    {
      "cell_type": "markdown",
      "source": [
        "**From the ROUGE score based analysis we can see that the CNN-LSTM based approach is able to obtain >70% F1-Scores for ROUGE-1,2, and L.**"
      ],
      "metadata": {
        "id": "hvqsxNew_Lpu"
      }
    }
  ]
}