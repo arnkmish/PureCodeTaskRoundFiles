{
  "nbformat": 4,
  "nbformat_minor": 0,
  "metadata": {
    "colab": {
      "provenance": [],
      "gpuType": "T4"
    },
    "kernelspec": {
      "name": "python3",
      "display_name": "Python 3"
    },
    "language_info": {
      "name": "python"
    },
    "accelerator": "GPU",
    "gpuClass": "standard"
  },
  "cells": [
    {
      "cell_type": "markdown",
      "source": [
        "## **UI Diagram to .gui Code Generation Via CNN-LSTM Based Image Captioning (Dataset 3)**"
      ],
      "metadata": {
        "id": "cBfwZppB8uaw"
      }
    },
    {
      "cell_type": "markdown",
      "source": [
        "**First we load the data from Google Drive**"
      ],
      "metadata": {
        "id": "xHpImMcQ9FM0"
      }
    },
    {
      "cell_type": "code",
      "execution_count": 1,
      "metadata": {
        "colab": {
          "base_uri": "https://localhost:8080/"
        },
        "id": "cKOKMVO-lmGr",
        "outputId": "03d9d669-9a0c-4a3f-aa9c-7a6c93d248f4"
      },
      "outputs": [
        {
          "output_type": "stream",
          "name": "stdout",
          "text": [
            "Mounted at /content/drive\n"
          ]
        }
      ],
      "source": [
        "from google.colab import drive\n",
        "drive.mount('/content/drive')"
      ]
    },
    {
      "cell_type": "code",
      "source": [
        "import os\n",
        "\n",
        "print(os.listdir('/content/drive/My Drive/PRCD/D1'))"
      ],
      "metadata": {
        "colab": {
          "base_uri": "https://localhost:8080/"
        },
        "id": "oCBVm3pFl_YA",
        "outputId": "bf0162a9-5479-482f-e02b-bf68b785f540"
      },
      "execution_count": 2,
      "outputs": [
        {
          "output_type": "stream",
          "name": "stdout",
          "text": [
            "['.DS_Store', 'IMAGES', 'TEXT_LABELS']\n"
          ]
        }
      ]
    },
    {
      "cell_type": "code",
      "source": [
        "d1ImageFolder = '/content/drive/My Drive/PRCD/D1/IMAGES/'\n",
        "d1LabelFolder = '/content/drive/My Drive/PRCD/D1/TEXT_LABELS/'\n",
        "\n",
        "d2ImageFolder = '/content/drive/My Drive/PRCD/D2/IMAGES/'\n",
        "d2LabelFolder = '/content/drive/My Drive/PRCD/D2/TEXT_LABELS/'\n",
        "\n",
        "d3ImageFolder = '/content/drive/My Drive/PRCD/D3/IMAGES/'\n",
        "d3LabelFolder = '/content/drive/My Drive/PRCD/D3/TEXT_LABELS/'\n",
        "\n",
        "d1ImageFiles = [d1ImageFolder+item for item in os.listdir(d1ImageFolder) if '.DS_Store' not in item]\n",
        "d1LabelFiles = [d1LabelFolder+item for item in os.listdir(d1LabelFolder) if '.DS_Store' not in item]\n",
        "\n",
        "d2ImageFiles = [d2ImageFolder+item for item in os.listdir(d2ImageFolder) if '.DS_Store' not in item]\n",
        "d2LabelFiles = [d2LabelFolder+item for item in os.listdir(d2LabelFolder) if '.DS_Store' not in item]\n",
        "\n",
        "d3ImageFiles = [d3ImageFolder+item for item in os.listdir(d3ImageFolder) if '.DS_Store' not in item]\n",
        "d3LabelFiles = [d3LabelFolder+item for item in os.listdir(d3LabelFolder) if '.DS_Store' not in item]\n",
        "\n",
        "print(len(d1ImageFiles))\n",
        "print(len(d1LabelFiles))\n",
        "print(len(d2ImageFiles))\n",
        "print(len(d2LabelFiles))\n",
        "print(len(d3ImageFiles))\n",
        "print(len(d3LabelFiles))"
      ],
      "metadata": {
        "colab": {
          "base_uri": "https://localhost:8080/"
        },
        "id": "PosdnWhenc7z",
        "outputId": "b69745a6-18bb-4c92-cbed-792da6c77aa3"
      },
      "execution_count": 3,
      "outputs": [
        {
          "output_type": "stream",
          "name": "stdout",
          "text": [
            "300\n",
            "300\n",
            "300\n",
            "300\n",
            "300\n",
            "300\n"
          ]
        }
      ]
    },
    {
      "cell_type": "code",
      "source": [
        "sortedD1ImgFiles = sorted(d1ImageFiles)\n",
        "sortedD1LblFiles = sorted(d1LabelFiles)\n",
        "\n",
        "print(sortedD1ImgFiles[:5])\n",
        "print(sortedD1LblFiles[:5])"
      ],
      "metadata": {
        "colab": {
          "base_uri": "https://localhost:8080/"
        },
        "id": "Ctag4bpBqNsQ",
        "outputId": "7e004feb-6bfa-43be-b1f1-7cfbca0c790f"
      },
      "execution_count": 4,
      "outputs": [
        {
          "output_type": "stream",
          "name": "stdout",
          "text": [
            "['/content/drive/My Drive/PRCD/D1/IMAGES/01357379-D6C2-4B01-AA66-C8790642D0B1.png', '/content/drive/My Drive/PRCD/D1/IMAGES/01B6145F-B88B-4FF8-B7D7-BB8A321EDA85.png', '/content/drive/My Drive/PRCD/D1/IMAGES/02C4C780-79EA-43F1-B2AE-3A2C757F874C.png', '/content/drive/My Drive/PRCD/D1/IMAGES/03806667-47A8-4965-8E93-21E205D5E8A7.png', '/content/drive/My Drive/PRCD/D1/IMAGES/042B145D-1E0D-47CB-B16C-7F49B64DFF53.png']\n",
            "['/content/drive/My Drive/PRCD/D1/TEXT_LABELS/01357379-D6C2-4B01-AA66-C8790642D0B1.gui', '/content/drive/My Drive/PRCD/D1/TEXT_LABELS/01B6145F-B88B-4FF8-B7D7-BB8A321EDA85.gui', '/content/drive/My Drive/PRCD/D1/TEXT_LABELS/02C4C780-79EA-43F1-B2AE-3A2C757F874C.gui', '/content/drive/My Drive/PRCD/D1/TEXT_LABELS/03806667-47A8-4965-8E93-21E205D5E8A7.gui', '/content/drive/My Drive/PRCD/D1/TEXT_LABELS/042B145D-1E0D-47CB-B16C-7F49B64DFF53.gui']\n"
          ]
        }
      ]
    },
    {
      "cell_type": "code",
      "source": [
        "sortedD2ImgFiles = sorted(d2ImageFiles)\n",
        "sortedD2LblFiles = sorted(d2LabelFiles)\n",
        "\n",
        "print(sortedD2ImgFiles[:5])\n",
        "print(sortedD2LblFiles[:5])"
      ],
      "metadata": {
        "colab": {
          "base_uri": "https://localhost:8080/"
        },
        "id": "ctsfJEw7qZxD",
        "outputId": "f36c9d6f-9ee7-403e-8719-615cddbff669"
      },
      "execution_count": 5,
      "outputs": [
        {
          "output_type": "stream",
          "name": "stdout",
          "text": [
            "['/content/drive/My Drive/PRCD/D2/IMAGES/10408432.png', '/content/drive/My Drive/PRCD/D2/IMAGES/10410760.png', '/content/drive/My Drive/PRCD/D2/IMAGES/10520680.png', '/content/drive/My Drive/PRCD/D2/IMAGES/10616008.png', '/content/drive/My Drive/PRCD/D2/IMAGES/10810885.png']\n",
            "['/content/drive/My Drive/PRCD/D2/TEXT_LABELS/10408432.gui', '/content/drive/My Drive/PRCD/D2/TEXT_LABELS/10410760.gui', '/content/drive/My Drive/PRCD/D2/TEXT_LABELS/10520680.gui', '/content/drive/My Drive/PRCD/D2/TEXT_LABELS/10616008.gui', '/content/drive/My Drive/PRCD/D2/TEXT_LABELS/10810885.gui']\n"
          ]
        }
      ]
    },
    {
      "cell_type": "code",
      "source": [
        "sortedD3ImgFiles = sorted(d3ImageFiles)\n",
        "sortedD3LblFiles = sorted(d3LabelFiles)\n",
        "\n",
        "print(sortedD3ImgFiles[:5])\n",
        "print(sortedD3LblFiles[:5])"
      ],
      "metadata": {
        "colab": {
          "base_uri": "https://localhost:8080/"
        },
        "id": "epOjEjwQsDRW",
        "outputId": "72762983-e5d9-4a31-ae88-4719e7909100"
      },
      "execution_count": 6,
      "outputs": [
        {
          "output_type": "stream",
          "name": "stdout",
          "text": [
            "['/content/drive/My Drive/PRCD/D3/IMAGES/1007382.png', '/content/drive/My Drive/PRCD/D3/IMAGES/1017406.png', '/content/drive/My Drive/PRCD/D3/IMAGES/1022926.png', '/content/drive/My Drive/PRCD/D3/IMAGES/102606.png', '/content/drive/My Drive/PRCD/D3/IMAGES/1030494.png']\n",
            "['/content/drive/My Drive/PRCD/D3/TEXT_LABELS/1007382.gui', '/content/drive/My Drive/PRCD/D3/TEXT_LABELS/1017406.gui', '/content/drive/My Drive/PRCD/D3/TEXT_LABELS/1022926.gui', '/content/drive/My Drive/PRCD/D3/TEXT_LABELS/102606.gui', '/content/drive/My Drive/PRCD/D3/TEXT_LABELS/1030494.gui']\n"
          ]
        }
      ]
    },
    {
      "cell_type": "code",
      "source": [
        "with open('/content/drive/My Drive/PRCD/D3/TEXT_LABELS/1007382.gui', \"r\") as f:\n",
        "    lines = f.readlines()\n",
        "print(' \\n'.join(lines))"
      ],
      "metadata": {
        "colab": {
          "base_uri": "https://localhost:8080/"
        },
        "id": "ejcrWZghsIJ2",
        "outputId": "446ccca0-ee2f-4326-8628-aa34e463a6b6"
      },
      "execution_count": 7,
      "outputs": [
        {
          "output_type": "stream",
          "name": "stdout",
          "text": [
            "components {\n",
            " \n",
            "sidebar, home\n",
            " \n",
            "}\n",
            " \n",
            "orientation {\n",
            " \n",
            "sidebar-left-home-right\n",
            " \n",
            "}\n",
            " \n",
            "sidebar {\n",
            " \n",
            "user {\n",
            " \n",
            "user-img\n",
            " \n",
            "}\n",
            " \n",
            "nav {\n",
            " \n",
            "field-inactive, field-inactive, field-active\n",
            " \n",
            "}\n",
            " \n",
            "logo {\n",
            " \n",
            "logo-img\n",
            " \n",
            "}\n",
            " \n",
            "}\n",
            " \n",
            "home {\n",
            " \n",
            "cards {\n",
            " \n",
            "img-card, img-txt-btn-card, img-card\n",
            " \n",
            "}\n",
            " \n",
            "table {\n",
            " \n",
            "btns {\n",
            " \n",
            "btn\n",
            " \n",
            "}\n",
            " \n",
            "table-col {\n",
            " \n",
            "category, category\n",
            " \n",
            "}\n",
            " \n",
            "table-row {\n",
            " \n",
            "entry\n",
            " \n",
            "}\n",
            " \n",
            "}\n",
            " \n",
            "}\n",
            "\n"
          ]
        }
      ]
    },
    {
      "cell_type": "markdown",
      "source": [
        "**We observe that there are 300 samples in total for each of the datasets. Also the UI images and there corresponding code files only differ in there file extensions. This will be useful while writing our dataloader.**"
      ],
      "metadata": {
        "id": "SxoKTBwG9Uj3"
      }
    },
    {
      "cell_type": "code",
      "source": [
        "# CREATE DATALOADER\n",
        "\n",
        "import pandas as pd\n",
        "import spacy\n",
        "import torch\n",
        "from torch.nn.utils.rnn import pad_sequence\n",
        "from torch.utils.data import DataLoader, Dataset\n",
        "from torchvision import transforms\n",
        "from PIL import Image\n",
        "\n",
        "class Vocabulary:\n",
        "  def __init__(self, freq_thresh):\n",
        "    self.itos = {0:\"<PAD>\", 1:\"<SOS>\", 2:\"<EOS>\", 3:\"<UNK>\"}\n",
        "    self.stoi = {\"<PAD>\":0, \"<SOS>\":1, \"<EOS>\":2, \"<UNK>\":3}\n",
        "    self.freq_thresh = freq_thresh\n",
        "\n",
        "  def __len__(self):\n",
        "    return len(self.itos)\n",
        "\n",
        "  @staticmethod\n",
        "  def my_tokenizer(text):\n",
        "    return text.split(' ')\n",
        "\n",
        "  def build_vocab(self,caption_list):\n",
        "    frequencies = {}\n",
        "    idx = 4\n",
        "    text_captions = []\n",
        "    for file in caption_list:\n",
        "      with open(file, \"r\") as f:\n",
        "        lines = f.readlines()\n",
        "      caption = ' \\n'.join(lines)\n",
        "      for word in caption.split(' '):\n",
        "        if word not in frequencies:\n",
        "          frequencies[word] = 1\n",
        "        else:\n",
        "          frequencies[word] += 1\n",
        "\n",
        "        if frequencies[word] == self.freq_thresh:\n",
        "          self.stoi[word] = idx\n",
        "          self.itos[idx] = word\n",
        "          idx += 1\n",
        "  def num(self, text):\n",
        "    tokenized_text = text.split(' ')\n",
        "\n",
        "    return [\n",
        "        self.stoi[token] if token in self.stoi else self.stoi['<UNK>']\n",
        "        for token in tokenized_text\n",
        "    ]  \n",
        "\n",
        "class MyDataset(Dataset):\n",
        "  def __init__(self, imgPathList, transform = None, freq_thresh=3):\n",
        "    self.imgPathList = imgPathList\n",
        "    self.transform = transform\n",
        "\n",
        "    # Initialize vocabulary and build vocabulary\n",
        "    self.caption_list = [item.replace('.png','.gui').replace('/IMAGES/','/TEXT_LABELS/') for item in self.imgPathList]\n",
        "    self.vocab = Vocabulary(freq_thresh)\n",
        "    self.vocab.build_vocab(self.caption_list)\n",
        "\n",
        "  def __len__(self):\n",
        "    return len(self.imgPathList)\n",
        "\n",
        "  def __getitem__(self, index):\n",
        "    captionPath = self.caption_list[index]\n",
        "\n",
        "    with open(captionPath, \"r\") as f:\n",
        "      lines = f.readlines()\n",
        "    caption = ' \\n'.join(lines)\n",
        "\n",
        "    imgPath = self.imgPathList[index]\n",
        "    img = Image.open(imgPath).convert(\"RGB\")\n",
        "\n",
        "    if self.transform is not None:\n",
        "      img = self.transform(img)\n",
        "\n",
        "    num_caption = [self.vocab.stoi[\"<SOS>\"]]\n",
        "    num_caption += self.vocab.num(caption)\n",
        "    num_caption.append(self.vocab.stoi[\"<EOS>\"])\n",
        "\n",
        "    return img, torch.tensor(num_caption)\n",
        "\n",
        "class MyCollate:\n",
        "  def __init__(self, pad_idx):\n",
        "    self.pad_idx = pad_idx\n",
        "\n",
        "  def __call__(self, batch):\n",
        "    imgs = [item[0].unsqueeze(0) for item in batch]\n",
        "    imgs = torch.cat(imgs, dim=0)\n",
        "    targets = [item[1] for item in batch]\n",
        "    targets = pad_sequence(targets, batch_first=False, padding_value=self.pad_idx)\n",
        "\n",
        "    return imgs, targets\n",
        "\n",
        "def get_loader(imgPathList, \n",
        "               transform, \n",
        "               batch_size=16, \n",
        "               num_workers=8,\n",
        "               shuffle = True,\n",
        "               pin_memory = True,\n",
        "               ):\n",
        "  dataset = MyDataset(imgPathList, transform)\n",
        "  pad_idx = dataset.vocab.stoi[\"<PAD>\"]\n",
        "\n",
        "  # print(dataset[0][0].shape)\n",
        "  # print(dataset[0][1].shape)\n",
        "  # print(dataset[1][0].shape)\n",
        "  # print(dataset[1][1].shape)\n",
        "\n",
        "  loader = DataLoader(\n",
        "      dataset = dataset,\n",
        "      batch_size = batch_size,\n",
        "      num_workers = num_workers,\n",
        "      shuffle = shuffle,\n",
        "      pin_memory = pin_memory,\n",
        "      collate_fn = MyCollate(pad_idx=pad_idx)\n",
        "  )\n",
        "\n",
        "  return loader\n",
        "\n",
        "transform = transforms.Compose([transforms.Resize((320,320)),transforms.ToTensor()])\n",
        "\n",
        "dataloader = get_loader(sortedD3ImgFiles, transform)\n",
        "\n",
        "for idx, data  in enumerate(dataloader):\n",
        "  print(data[0].shape)\n",
        "  print(data[1].shape)\n",
        "  \n"
      ],
      "metadata": {
        "colab": {
          "base_uri": "https://localhost:8080/"
        },
        "id": "LhOcNIJcs6p-",
        "outputId": "6539b44e-7b35-4ebf-8e54-4390776edc3f"
      },
      "execution_count": 65,
      "outputs": [
        {
          "output_type": "stream",
          "name": "stdout",
          "text": [
            "torch.Size([16, 3, 320, 320])\n",
            "torch.Size([58, 16])\n",
            "torch.Size([16, 3, 320, 320])\n",
            "torch.Size([60, 16])\n",
            "torch.Size([16, 3, 320, 320])\n",
            "torch.Size([60, 16])\n",
            "torch.Size([16, 3, 320, 320])\n",
            "torch.Size([57, 16])\n",
            "torch.Size([16, 3, 320, 320])\n",
            "torch.Size([59, 16])\n",
            "torch.Size([16, 3, 320, 320])\n",
            "torch.Size([59, 16])\n",
            "torch.Size([16, 3, 320, 320])\n",
            "torch.Size([58, 16])\n",
            "torch.Size([16, 3, 320, 320])\n",
            "torch.Size([58, 16])\n",
            "torch.Size([16, 3, 320, 320])\n",
            "torch.Size([58, 16])\n",
            "torch.Size([16, 3, 320, 320])\n",
            "torch.Size([58, 16])\n",
            "torch.Size([16, 3, 320, 320])\n",
            "torch.Size([57, 16])\n",
            "torch.Size([16, 3, 320, 320])\n",
            "torch.Size([60, 16])\n",
            "torch.Size([16, 3, 320, 320])\n",
            "torch.Size([57, 16])\n",
            "torch.Size([16, 3, 320, 320])\n",
            "torch.Size([59, 16])\n",
            "torch.Size([16, 3, 320, 320])\n",
            "torch.Size([58, 16])\n",
            "torch.Size([16, 3, 320, 320])\n",
            "torch.Size([59, 16])\n",
            "torch.Size([16, 3, 320, 320])\n",
            "torch.Size([58, 16])\n",
            "torch.Size([16, 3, 320, 320])\n",
            "torch.Size([58, 16])\n",
            "torch.Size([12, 3, 320, 320])\n",
            "torch.Size([58, 12])\n"
          ]
        }
      ]
    },
    {
      "cell_type": "markdown",
      "source": [
        "**We observe that our dataloader has been able to successfully generate batches of equal length text labels and the image transforms are also working**"
      ],
      "metadata": {
        "id": "15teRKNR90uN"
      }
    },
    {
      "cell_type": "code",
      "source": [
        "# CREATE MODEL\n",
        "\n",
        "import torch.nn as nn\n",
        "import statistics\n",
        "import torchvision.models as models\n",
        "\n",
        "\n",
        "class EncoderCNN(nn.Module):\n",
        "    def __init__(self, embed_size, train_CNN=False):\n",
        "        super(EncoderCNN, self).__init__()\n",
        "        self.train_CNN = train_CNN\n",
        "        self.res = models.resnet50(weights=models.ResNet50_Weights.IMAGENET1K_V1)\n",
        "        self.res.fc = nn.Linear(self.res.fc.in_features, embed_size)\n",
        "        self.relu = nn.ReLU()\n",
        "        self.times = []\n",
        "        self.dropout = nn.Dropout(0.5)\n",
        "\n",
        "    def forward(self, images):\n",
        "        features = self.res(images)\n",
        "        return self.dropout(self.relu(features))\n",
        "\n",
        "\n",
        "class DecoderRNN(nn.Module):\n",
        "    def __init__(self, embed_size, hidden_size, vocab_size, num_layers):\n",
        "        super(DecoderRNN, self).__init__()\n",
        "        self.embed = nn.Embedding(vocab_size, embed_size)\n",
        "        self.lstm = nn.LSTM(embed_size, hidden_size, num_layers)\n",
        "        self.linear = nn.Linear(hidden_size, vocab_size)\n",
        "        self.dropout = nn.Dropout(0.5)\n",
        "\n",
        "    def forward(self, features, captions):\n",
        "        embeddings = self.dropout(self.embed(captions))\n",
        "        embeddings = torch.cat((features.unsqueeze(0), embeddings), dim=0)\n",
        "        hiddens, _ = self.lstm(embeddings)\n",
        "        outputs = self.linear(hiddens)\n",
        "        return outputs\n",
        "\n",
        "\n",
        "class CNNtoRNN(nn.Module):\n",
        "    def __init__(self, embed_size, hidden_size, vocab_size, num_layers):\n",
        "        super(CNNtoRNN, self).__init__()\n",
        "        self.encoderCNN = EncoderCNN(embed_size)\n",
        "        self.decoderRNN = DecoderRNN(embed_size, hidden_size, vocab_size, num_layers)\n",
        "\n",
        "    def forward(self, images, captions):\n",
        "        features = self.encoderCNN(images)\n",
        "        outputs = self.decoderRNN(features, captions)\n",
        "        return outputs\n",
        "\n",
        "    def caption_image(self, image, vocabulary, max_length=50):\n",
        "        result_caption = []\n",
        "\n",
        "        with torch.no_grad():\n",
        "            x = self.encoderCNN(image).unsqueeze(0)\n",
        "            states = None\n",
        "\n",
        "            for _ in range(max_length):\n",
        "                hiddens, states = self.decoderRNN.lstm(x, states)\n",
        "                output = self.decoderRNN.linear(hiddens.squeeze(0))\n",
        "                predicted = output.argmax(1)\n",
        "                result_caption.append(predicted.item())\n",
        "                x = self.decoderRNN.embed(predicted).unsqueeze(0)\n",
        "\n",
        "                if vocabulary.itos[predicted.item()] == \"<EOS>\":\n",
        "                    break\n",
        "\n",
        "        return [vocabulary.itos[idx] for idx in result_caption]\n"
      ],
      "metadata": {
        "id": "dka0TrkjBs_Q"
      },
      "execution_count": 66,
      "outputs": []
    },
    {
      "cell_type": "markdown",
      "source": [
        "**In the above code we have created our CNN-LSTM model. It is a simple model with ResNet50 architecture frozen while keeping only the fc layers trainable. The ResNet50 features are passed on to the subsequent LSTM based decoder. Finally both the encoder and the decoder are combined. We also keep one caption_image method that can be used for inference.**"
      ],
      "metadata": {
        "id": "v4fOc9zZ-FIw"
      }
    },
    {
      "cell_type": "code",
      "source": [
        "# TRAIN TEST SPLIT\n",
        "\n",
        "from sklearn.model_selection import train_test_split\n",
        "\n",
        "xTrain, xTest, yTrain, yTest = train_test_split(sortedD3ImgFiles, sortedD3LblFiles, test_size=0.1, random_state=42)\n",
        "print(len(xTrain))\n",
        "print(len(yTrain))\n",
        "print(len(xTest))\n",
        "print(len(yTest))"
      ],
      "metadata": {
        "colab": {
          "base_uri": "https://localhost:8080/"
        },
        "id": "W-rV5uWtnVAv",
        "outputId": "04c1e8f9-3011-42f4-e28a-c637c4b59b17"
      },
      "execution_count": 67,
      "outputs": [
        {
          "output_type": "stream",
          "name": "stdout",
          "text": [
            "270\n",
            "270\n",
            "30\n",
            "30\n"
          ]
        }
      ]
    },
    {
      "cell_type": "code",
      "source": [
        "# TRAIN LOOP\n",
        "\n",
        "import torch.optim as optim\n",
        "from torch.utils.tensorboard import SummaryWriter\n",
        "from tqdm import tqdm\n",
        "\n",
        "def train():\n",
        "    transform = transforms.Compose(\n",
        "        [\n",
        "            transforms.Resize((356, 356)),\n",
        "            transforms.RandomCrop((299, 299)),\n",
        "            transforms.ToTensor(),\n",
        "            transforms.Normalize((0.5, 0.5, 0.5), (0.5, 0.5, 0.5)),\n",
        "        ]\n",
        "    )\n",
        "\n",
        "    dataset = MyDataset(xTrain, transform)\n",
        "\n",
        "    train_loader = get_loader(\n",
        "        xTrain, \n",
        "        transform,\n",
        "    )\n",
        "\n",
        "    torch.backends.cudnn.benchmark = True\n",
        "    device = torch.device(\"cuda\" if torch.cuda.is_available() else \"cpu\")\n",
        "    load_model = False\n",
        "    save_model = False\n",
        "    train_CNN = False\n",
        "\n",
        "    # Hyperparameters\n",
        "    embed_size = 256\n",
        "    hidden_size = 256\n",
        "    vocab_size = len(dataset.vocab)\n",
        "    num_layers = 1\n",
        "    learning_rate = 3e-4\n",
        "    num_epochs = 100\n",
        "\n",
        "    # for tensorboard\n",
        "    writer = SummaryWriter(\"runs/TRCD_D3\")\n",
        "    step = 0\n",
        "\n",
        "    # initialize model, loss etc\n",
        "    model = CNNtoRNN(embed_size, hidden_size, vocab_size, num_layers).to(device)\n",
        "    criterion = nn.CrossEntropyLoss(ignore_index=dataset.vocab.stoi[\"<PAD>\"])\n",
        "    optimizer = optim.Adam(model.parameters(), lr=learning_rate)\n",
        "\n",
        "    # Only finetune the CNN\n",
        "    for name, param in model.encoderCNN.res.named_parameters():\n",
        "        if \"fc.weight\" in name or \"fc.bias\" in name:\n",
        "            param.requires_grad = True\n",
        "        else:\n",
        "            param.requires_grad = train_CNN\n",
        "\n",
        "    # if load_model:\n",
        "    #     step = load_checkpoint(torch.load(\"my_checkpoint.pth.tar\"), model, optimizer)\n",
        "\n",
        "    model.train()\n",
        "\n",
        "    for epoch in range(num_epochs):\n",
        "        epoch_loss = 0\n",
        "        num_batches = 0\n",
        "        # Uncomment the line below to see a couple of test cases\n",
        "        # print_examples(model, device, dataset)\n",
        "\n",
        "        # if save_model:\n",
        "        #     checkpoint = {\n",
        "        #         \"state_dict\": model.state_dict(),\n",
        "        #         \"optimizer\": optimizer.state_dict(),\n",
        "        #         \"step\": step,\n",
        "        #     }\n",
        "        #     save_checkpoint(checkpoint)\n",
        "\n",
        "        for idx, (imgs, captions) in tqdm(\n",
        "            enumerate(train_loader), total=len(train_loader), leave=False\n",
        "        ):\n",
        "            imgs = imgs.to(device)\n",
        "            captions = captions.to(device)\n",
        "\n",
        "            # print(imgs.shape)\n",
        "            # print(captions.shape)\n",
        "\n",
        "            outputs = model(imgs, captions[:-1])\n",
        "            loss = criterion(\n",
        "                outputs.reshape(-1, outputs.shape[2]), captions.reshape(-1)\n",
        "            )\n",
        "\n",
        "            writer.add_scalar(\"Training loss\", loss.item(), global_step=step)\n",
        "            \n",
        "            epoch_loss += loss.item()\n",
        "\n",
        "            num_batches += 1\n",
        "\n",
        "            step += 1\n",
        "\n",
        "            optimizer.zero_grad()\n",
        "            loss.backward(loss)\n",
        "            optimizer.step()\n",
        "\n",
        "        print(f\"Epoch {epoch+1} Loss is: {epoch_loss/num_batches}\")\n",
        "        \n",
        "    return model\n",
        "\n",
        "model = train()"
      ],
      "metadata": {
        "colab": {
          "base_uri": "https://localhost:8080/"
        },
        "id": "u4Q3LaKia7sM",
        "outputId": "a6718f5e-330f-4e36-98bf-f491546976f0"
      },
      "execution_count": 68,
      "outputs": [
        {
          "output_type": "stream",
          "name": "stderr",
          "text": [
            "                                               "
          ]
        },
        {
          "output_type": "stream",
          "name": "stdout",
          "text": [
            "Epoch 1 Loss is: 3.817195738063139\n"
          ]
        },
        {
          "output_type": "stream",
          "name": "stderr",
          "text": [
            "                                               "
          ]
        },
        {
          "output_type": "stream",
          "name": "stdout",
          "text": [
            "Epoch 2 Loss is: 2.9918663922478173\n"
          ]
        },
        {
          "output_type": "stream",
          "name": "stderr",
          "text": [
            "                                               "
          ]
        },
        {
          "output_type": "stream",
          "name": "stdout",
          "text": [
            "Epoch 3 Loss is: 2.3757376811083626\n"
          ]
        },
        {
          "output_type": "stream",
          "name": "stderr",
          "text": [
            "                                               "
          ]
        },
        {
          "output_type": "stream",
          "name": "stdout",
          "text": [
            "Epoch 4 Loss is: 1.9498255112591911\n"
          ]
        },
        {
          "output_type": "stream",
          "name": "stderr",
          "text": [
            "                                               "
          ]
        },
        {
          "output_type": "stream",
          "name": "stdout",
          "text": [
            "Epoch 5 Loss is: 1.612894808544832\n"
          ]
        },
        {
          "output_type": "stream",
          "name": "stderr",
          "text": [
            "                                               "
          ]
        },
        {
          "output_type": "stream",
          "name": "stdout",
          "text": [
            "Epoch 6 Loss is: 1.3468826307969934\n"
          ]
        },
        {
          "output_type": "stream",
          "name": "stderr",
          "text": [
            "                                               "
          ]
        },
        {
          "output_type": "stream",
          "name": "stdout",
          "text": [
            "Epoch 7 Loss is: 1.1429153470432056\n"
          ]
        },
        {
          "output_type": "stream",
          "name": "stderr",
          "text": [
            "                                               "
          ]
        },
        {
          "output_type": "stream",
          "name": "stdout",
          "text": [
            "Epoch 8 Loss is: 0.992859002421884\n"
          ]
        },
        {
          "output_type": "stream",
          "name": "stderr",
          "text": [
            "                                               "
          ]
        },
        {
          "output_type": "stream",
          "name": "stdout",
          "text": [
            "Epoch 9 Loss is: 0.8808951202560874\n"
          ]
        },
        {
          "output_type": "stream",
          "name": "stderr",
          "text": [
            "                                               "
          ]
        },
        {
          "output_type": "stream",
          "name": "stdout",
          "text": [
            "Epoch 10 Loss is: 0.7987894135362962\n"
          ]
        },
        {
          "output_type": "stream",
          "name": "stderr",
          "text": [
            "                                               "
          ]
        },
        {
          "output_type": "stream",
          "name": "stdout",
          "text": [
            "Epoch 11 Loss is: 0.7341473312938914\n"
          ]
        },
        {
          "output_type": "stream",
          "name": "stderr",
          "text": [
            "                                               "
          ]
        },
        {
          "output_type": "stream",
          "name": "stdout",
          "text": [
            "Epoch 12 Loss is: 0.6840691461282618\n"
          ]
        },
        {
          "output_type": "stream",
          "name": "stderr",
          "text": [
            "                                               "
          ]
        },
        {
          "output_type": "stream",
          "name": "stdout",
          "text": [
            "Epoch 13 Loss is: 0.6404582156854517\n"
          ]
        },
        {
          "output_type": "stream",
          "name": "stderr",
          "text": [
            "                                               "
          ]
        },
        {
          "output_type": "stream",
          "name": "stdout",
          "text": [
            "Epoch 14 Loss is: 0.6084088998682359\n"
          ]
        },
        {
          "output_type": "stream",
          "name": "stderr",
          "text": [
            "                                               "
          ]
        },
        {
          "output_type": "stream",
          "name": "stdout",
          "text": [
            "Epoch 15 Loss is: 0.5780895773102256\n"
          ]
        },
        {
          "output_type": "stream",
          "name": "stderr",
          "text": [
            "                                               "
          ]
        },
        {
          "output_type": "stream",
          "name": "stdout",
          "text": [
            "Epoch 16 Loss is: 0.5546890917946311\n"
          ]
        },
        {
          "output_type": "stream",
          "name": "stderr",
          "text": [
            "                                               "
          ]
        },
        {
          "output_type": "stream",
          "name": "stdout",
          "text": [
            "Epoch 17 Loss is: 0.5344107221154606\n"
          ]
        },
        {
          "output_type": "stream",
          "name": "stderr",
          "text": [
            "                                               "
          ]
        },
        {
          "output_type": "stream",
          "name": "stdout",
          "text": [
            "Epoch 18 Loss is: 0.5182940679437974\n"
          ]
        },
        {
          "output_type": "stream",
          "name": "stderr",
          "text": [
            "                                               "
          ]
        },
        {
          "output_type": "stream",
          "name": "stdout",
          "text": [
            "Epoch 19 Loss is: 0.5005180379923653\n"
          ]
        },
        {
          "output_type": "stream",
          "name": "stderr",
          "text": [
            "                                               "
          ]
        },
        {
          "output_type": "stream",
          "name": "stdout",
          "text": [
            "Epoch 20 Loss is: 0.4864465208614574\n"
          ]
        },
        {
          "output_type": "stream",
          "name": "stderr",
          "text": [
            "                                               "
          ]
        },
        {
          "output_type": "stream",
          "name": "stdout",
          "text": [
            "Epoch 21 Loss is: 0.47536062843659344\n"
          ]
        },
        {
          "output_type": "stream",
          "name": "stderr",
          "text": [
            "                                               "
          ]
        },
        {
          "output_type": "stream",
          "name": "stdout",
          "text": [
            "Epoch 22 Loss is: 0.4634388895595775\n"
          ]
        },
        {
          "output_type": "stream",
          "name": "stderr",
          "text": [
            "                                               "
          ]
        },
        {
          "output_type": "stream",
          "name": "stdout",
          "text": [
            "Epoch 23 Loss is: 0.45462406382841225\n"
          ]
        },
        {
          "output_type": "stream",
          "name": "stderr",
          "text": [
            "                                               "
          ]
        },
        {
          "output_type": "stream",
          "name": "stdout",
          "text": [
            "Epoch 24 Loss is: 0.4453110309208141\n"
          ]
        },
        {
          "output_type": "stream",
          "name": "stderr",
          "text": [
            "                                               "
          ]
        },
        {
          "output_type": "stream",
          "name": "stdout",
          "text": [
            "Epoch 25 Loss is: 0.43847036712309895\n"
          ]
        },
        {
          "output_type": "stream",
          "name": "stderr",
          "text": [
            "                                               "
          ]
        },
        {
          "output_type": "stream",
          "name": "stdout",
          "text": [
            "Epoch 26 Loss is: 0.42956163602716785\n"
          ]
        },
        {
          "output_type": "stream",
          "name": "stderr",
          "text": [
            "                                               "
          ]
        },
        {
          "output_type": "stream",
          "name": "stdout",
          "text": [
            "Epoch 27 Loss is: 0.4232468780349283\n"
          ]
        },
        {
          "output_type": "stream",
          "name": "stderr",
          "text": [
            "                                               "
          ]
        },
        {
          "output_type": "stream",
          "name": "stdout",
          "text": [
            "Epoch 28 Loss is: 0.4167182726018569\n"
          ]
        },
        {
          "output_type": "stream",
          "name": "stderr",
          "text": [
            "                                               "
          ]
        },
        {
          "output_type": "stream",
          "name": "stdout",
          "text": [
            "Epoch 29 Loss is: 0.4116254396298352\n"
          ]
        },
        {
          "output_type": "stream",
          "name": "stderr",
          "text": [
            "                                               "
          ]
        },
        {
          "output_type": "stream",
          "name": "stdout",
          "text": [
            "Epoch 30 Loss is: 0.40611022009569053\n"
          ]
        },
        {
          "output_type": "stream",
          "name": "stderr",
          "text": [
            "                                               "
          ]
        },
        {
          "output_type": "stream",
          "name": "stdout",
          "text": [
            "Epoch 31 Loss is: 0.40132587271578174\n"
          ]
        },
        {
          "output_type": "stream",
          "name": "stderr",
          "text": [
            "                                               "
          ]
        },
        {
          "output_type": "stream",
          "name": "stdout",
          "text": [
            "Epoch 32 Loss is: 0.3960409269613378\n"
          ]
        },
        {
          "output_type": "stream",
          "name": "stderr",
          "text": [
            "                                               "
          ]
        },
        {
          "output_type": "stream",
          "name": "stdout",
          "text": [
            "Epoch 33 Loss is: 0.39173706489450794\n"
          ]
        },
        {
          "output_type": "stream",
          "name": "stderr",
          "text": [
            "                                               "
          ]
        },
        {
          "output_type": "stream",
          "name": "stdout",
          "text": [
            "Epoch 34 Loss is: 0.3869670769747566\n"
          ]
        },
        {
          "output_type": "stream",
          "name": "stderr",
          "text": [
            "                                               "
          ]
        },
        {
          "output_type": "stream",
          "name": "stdout",
          "text": [
            "Epoch 35 Loss is: 0.38364063641604257\n"
          ]
        },
        {
          "output_type": "stream",
          "name": "stderr",
          "text": [
            "                                               "
          ]
        },
        {
          "output_type": "stream",
          "name": "stdout",
          "text": [
            "Epoch 36 Loss is: 0.3793800157659194\n"
          ]
        },
        {
          "output_type": "stream",
          "name": "stderr",
          "text": [
            "                                               "
          ]
        },
        {
          "output_type": "stream",
          "name": "stdout",
          "text": [
            "Epoch 37 Loss is: 0.37572066748843475\n"
          ]
        },
        {
          "output_type": "stream",
          "name": "stderr",
          "text": [
            "                                               "
          ]
        },
        {
          "output_type": "stream",
          "name": "stdout",
          "text": [
            "Epoch 38 Loss is: 0.3718850612640381\n"
          ]
        },
        {
          "output_type": "stream",
          "name": "stderr",
          "text": [
            "                                               "
          ]
        },
        {
          "output_type": "stream",
          "name": "stdout",
          "text": [
            "Epoch 39 Loss is: 0.36916106062776904\n"
          ]
        },
        {
          "output_type": "stream",
          "name": "stderr",
          "text": [
            "                                               "
          ]
        },
        {
          "output_type": "stream",
          "name": "stdout",
          "text": [
            "Epoch 40 Loss is: 0.3655582263189204\n"
          ]
        },
        {
          "output_type": "stream",
          "name": "stderr",
          "text": [
            "                                               "
          ]
        },
        {
          "output_type": "stream",
          "name": "stdout",
          "text": [
            "Epoch 41 Loss is: 0.36333142834551196\n"
          ]
        },
        {
          "output_type": "stream",
          "name": "stderr",
          "text": [
            "                                               "
          ]
        },
        {
          "output_type": "stream",
          "name": "stdout",
          "text": [
            "Epoch 42 Loss is: 0.35948287388857675\n"
          ]
        },
        {
          "output_type": "stream",
          "name": "stderr",
          "text": [
            "                                               "
          ]
        },
        {
          "output_type": "stream",
          "name": "stdout",
          "text": [
            "Epoch 43 Loss is: 0.3566244174452389\n"
          ]
        },
        {
          "output_type": "stream",
          "name": "stderr",
          "text": [
            "                                               "
          ]
        },
        {
          "output_type": "stream",
          "name": "stdout",
          "text": [
            "Epoch 44 Loss is: 0.3538873984533198\n"
          ]
        },
        {
          "output_type": "stream",
          "name": "stderr",
          "text": [
            "                                               "
          ]
        },
        {
          "output_type": "stream",
          "name": "stdout",
          "text": [
            "Epoch 45 Loss is: 0.35138215387568755\n"
          ]
        },
        {
          "output_type": "stream",
          "name": "stderr",
          "text": [
            "                                               "
          ]
        },
        {
          "output_type": "stream",
          "name": "stdout",
          "text": [
            "Epoch 46 Loss is: 0.3490166734246647\n"
          ]
        },
        {
          "output_type": "stream",
          "name": "stderr",
          "text": [
            "                                               "
          ]
        },
        {
          "output_type": "stream",
          "name": "stdout",
          "text": [
            "Epoch 47 Loss is: 0.3469262105577132\n"
          ]
        },
        {
          "output_type": "stream",
          "name": "stderr",
          "text": [
            "                                               "
          ]
        },
        {
          "output_type": "stream",
          "name": "stdout",
          "text": [
            "Epoch 48 Loss is: 0.34480905006913576\n"
          ]
        },
        {
          "output_type": "stream",
          "name": "stderr",
          "text": [
            "                                               "
          ]
        },
        {
          "output_type": "stream",
          "name": "stdout",
          "text": [
            "Epoch 49 Loss is: 0.3420240598566392\n"
          ]
        },
        {
          "output_type": "stream",
          "name": "stderr",
          "text": [
            "                                               "
          ]
        },
        {
          "output_type": "stream",
          "name": "stdout",
          "text": [
            "Epoch 50 Loss is: 0.3398334068410537\n"
          ]
        },
        {
          "output_type": "stream",
          "name": "stderr",
          "text": [
            "                                               "
          ]
        },
        {
          "output_type": "stream",
          "name": "stdout",
          "text": [
            "Epoch 51 Loss is: 0.3386659709846272\n"
          ]
        },
        {
          "output_type": "stream",
          "name": "stderr",
          "text": [
            "                                               "
          ]
        },
        {
          "output_type": "stream",
          "name": "stdout",
          "text": [
            "Epoch 52 Loss is: 0.3366200205157785\n"
          ]
        },
        {
          "output_type": "stream",
          "name": "stderr",
          "text": [
            "                                               "
          ]
        },
        {
          "output_type": "stream",
          "name": "stdout",
          "text": [
            "Epoch 53 Loss is: 0.33615364397273345\n"
          ]
        },
        {
          "output_type": "stream",
          "name": "stderr",
          "text": [
            "                                               "
          ]
        },
        {
          "output_type": "stream",
          "name": "stdout",
          "text": [
            "Epoch 54 Loss is: 0.3328387754804948\n"
          ]
        },
        {
          "output_type": "stream",
          "name": "stderr",
          "text": [
            "                                               "
          ]
        },
        {
          "output_type": "stream",
          "name": "stdout",
          "text": [
            "Epoch 55 Loss is: 0.33183900047751036\n"
          ]
        },
        {
          "output_type": "stream",
          "name": "stderr",
          "text": [
            "                                               "
          ]
        },
        {
          "output_type": "stream",
          "name": "stdout",
          "text": [
            "Epoch 56 Loss is: 0.32962049631511464\n"
          ]
        },
        {
          "output_type": "stream",
          "name": "stderr",
          "text": [
            "                                               "
          ]
        },
        {
          "output_type": "stream",
          "name": "stdout",
          "text": [
            "Epoch 57 Loss is: 0.3290381536764257\n"
          ]
        },
        {
          "output_type": "stream",
          "name": "stderr",
          "text": [
            "                                               "
          ]
        },
        {
          "output_type": "stream",
          "name": "stdout",
          "text": [
            "Epoch 58 Loss is: 0.32645546688753013\n"
          ]
        },
        {
          "output_type": "stream",
          "name": "stderr",
          "text": [
            "                                               "
          ]
        },
        {
          "output_type": "stream",
          "name": "stdout",
          "text": [
            "Epoch 59 Loss is: 0.32601641732103687\n"
          ]
        },
        {
          "output_type": "stream",
          "name": "stderr",
          "text": [
            "                                               "
          ]
        },
        {
          "output_type": "stream",
          "name": "stdout",
          "text": [
            "Epoch 60 Loss is: 0.3244452196009019\n"
          ]
        },
        {
          "output_type": "stream",
          "name": "stderr",
          "text": [
            "                                               "
          ]
        },
        {
          "output_type": "stream",
          "name": "stdout",
          "text": [
            "Epoch 61 Loss is: 0.32279696534661684\n"
          ]
        },
        {
          "output_type": "stream",
          "name": "stderr",
          "text": [
            "                                               "
          ]
        },
        {
          "output_type": "stream",
          "name": "stdout",
          "text": [
            "Epoch 62 Loss is: 0.3224359575439902\n"
          ]
        },
        {
          "output_type": "stream",
          "name": "stderr",
          "text": [
            "                                               "
          ]
        },
        {
          "output_type": "stream",
          "name": "stdout",
          "text": [
            "Epoch 63 Loss is: 0.31842315722914305\n"
          ]
        },
        {
          "output_type": "stream",
          "name": "stderr",
          "text": [
            "                                               "
          ]
        },
        {
          "output_type": "stream",
          "name": "stdout",
          "text": [
            "Epoch 64 Loss is: 0.31821175883798036\n"
          ]
        },
        {
          "output_type": "stream",
          "name": "stderr",
          "text": [
            "                                               "
          ]
        },
        {
          "output_type": "stream",
          "name": "stdout",
          "text": [
            "Epoch 65 Loss is: 0.3184122232829823\n"
          ]
        },
        {
          "output_type": "stream",
          "name": "stderr",
          "text": [
            "                                               "
          ]
        },
        {
          "output_type": "stream",
          "name": "stdout",
          "text": [
            "Epoch 66 Loss is: 0.31654824579463287\n"
          ]
        },
        {
          "output_type": "stream",
          "name": "stderr",
          "text": [
            "                                               "
          ]
        },
        {
          "output_type": "stream",
          "name": "stdout",
          "text": [
            "Epoch 67 Loss is: 0.31498448112431693\n"
          ]
        },
        {
          "output_type": "stream",
          "name": "stderr",
          "text": [
            "                                               "
          ]
        },
        {
          "output_type": "stream",
          "name": "stdout",
          "text": [
            "Epoch 68 Loss is: 0.31300220769994397\n"
          ]
        },
        {
          "output_type": "stream",
          "name": "stderr",
          "text": [
            "                                               "
          ]
        },
        {
          "output_type": "stream",
          "name": "stdout",
          "text": [
            "Epoch 69 Loss is: 0.31294068343499126\n"
          ]
        },
        {
          "output_type": "stream",
          "name": "stderr",
          "text": [
            "                                               "
          ]
        },
        {
          "output_type": "stream",
          "name": "stdout",
          "text": [
            "Epoch 70 Loss is: 0.312458616845748\n"
          ]
        },
        {
          "output_type": "stream",
          "name": "stderr",
          "text": [
            "                                               "
          ]
        },
        {
          "output_type": "stream",
          "name": "stdout",
          "text": [
            "Epoch 71 Loss is: 0.31206562764504375\n"
          ]
        },
        {
          "output_type": "stream",
          "name": "stderr",
          "text": [
            "                                               "
          ]
        },
        {
          "output_type": "stream",
          "name": "stdout",
          "text": [
            "Epoch 72 Loss is: 0.3112155479543349\n"
          ]
        },
        {
          "output_type": "stream",
          "name": "stderr",
          "text": [
            "                                               "
          ]
        },
        {
          "output_type": "stream",
          "name": "stdout",
          "text": [
            "Epoch 73 Loss is: 0.30827399562386903\n"
          ]
        },
        {
          "output_type": "stream",
          "name": "stderr",
          "text": [
            "                                               "
          ]
        },
        {
          "output_type": "stream",
          "name": "stdout",
          "text": [
            "Epoch 74 Loss is: 0.30879802212995644\n"
          ]
        },
        {
          "output_type": "stream",
          "name": "stderr",
          "text": [
            "                                               "
          ]
        },
        {
          "output_type": "stream",
          "name": "stdout",
          "text": [
            "Epoch 75 Loss is: 0.3074953959268682\n"
          ]
        },
        {
          "output_type": "stream",
          "name": "stderr",
          "text": [
            "                                               "
          ]
        },
        {
          "output_type": "stream",
          "name": "stdout",
          "text": [
            "Epoch 76 Loss is: 0.3057214232052074\n"
          ]
        },
        {
          "output_type": "stream",
          "name": "stderr",
          "text": [
            "                                               "
          ]
        },
        {
          "output_type": "stream",
          "name": "stdout",
          "text": [
            "Epoch 77 Loss is: 0.3047712743282318\n"
          ]
        },
        {
          "output_type": "stream",
          "name": "stderr",
          "text": [
            "                                               "
          ]
        },
        {
          "output_type": "stream",
          "name": "stdout",
          "text": [
            "Epoch 78 Loss is: 0.30458561988437877\n"
          ]
        },
        {
          "output_type": "stream",
          "name": "stderr",
          "text": [
            "                                               "
          ]
        },
        {
          "output_type": "stream",
          "name": "stdout",
          "text": [
            "Epoch 79 Loss is: 0.3033191105898689\n"
          ]
        },
        {
          "output_type": "stream",
          "name": "stderr",
          "text": [
            "                                               "
          ]
        },
        {
          "output_type": "stream",
          "name": "stdout",
          "text": [
            "Epoch 80 Loss is: 0.3025575595743516\n"
          ]
        },
        {
          "output_type": "stream",
          "name": "stderr",
          "text": [
            "                                               "
          ]
        },
        {
          "output_type": "stream",
          "name": "stdout",
          "text": [
            "Epoch 81 Loss is: 0.3022858623196097\n"
          ]
        },
        {
          "output_type": "stream",
          "name": "stderr",
          "text": [
            "                                               "
          ]
        },
        {
          "output_type": "stream",
          "name": "stdout",
          "text": [
            "Epoch 82 Loss is: 0.3003493284477907\n"
          ]
        },
        {
          "output_type": "stream",
          "name": "stderr",
          "text": [
            "                                               "
          ]
        },
        {
          "output_type": "stream",
          "name": "stdout",
          "text": [
            "Epoch 83 Loss is: 0.3007413236533894\n"
          ]
        },
        {
          "output_type": "stream",
          "name": "stderr",
          "text": [
            "                                               "
          ]
        },
        {
          "output_type": "stream",
          "name": "stdout",
          "text": [
            "Epoch 84 Loss is: 0.2992639471502865\n"
          ]
        },
        {
          "output_type": "stream",
          "name": "stderr",
          "text": [
            "                                               "
          ]
        },
        {
          "output_type": "stream",
          "name": "stdout",
          "text": [
            "Epoch 85 Loss is: 0.2992258825722863\n"
          ]
        },
        {
          "output_type": "stream",
          "name": "stderr",
          "text": [
            "                                               "
          ]
        },
        {
          "output_type": "stream",
          "name": "stdout",
          "text": [
            "Epoch 86 Loss is: 0.2975228972294751\n"
          ]
        },
        {
          "output_type": "stream",
          "name": "stderr",
          "text": [
            "                                               "
          ]
        },
        {
          "output_type": "stream",
          "name": "stdout",
          "text": [
            "Epoch 87 Loss is: 0.29669930303798003\n"
          ]
        },
        {
          "output_type": "stream",
          "name": "stderr",
          "text": [
            "                                               "
          ]
        },
        {
          "output_type": "stream",
          "name": "stdout",
          "text": [
            "Epoch 88 Loss is: 0.29697758835904736\n"
          ]
        },
        {
          "output_type": "stream",
          "name": "stderr",
          "text": [
            "                                               "
          ]
        },
        {
          "output_type": "stream",
          "name": "stdout",
          "text": [
            "Epoch 89 Loss is: 0.2966020703315735\n"
          ]
        },
        {
          "output_type": "stream",
          "name": "stderr",
          "text": [
            "                                               "
          ]
        },
        {
          "output_type": "stream",
          "name": "stdout",
          "text": [
            "Epoch 90 Loss is: 0.2968639661284054\n"
          ]
        },
        {
          "output_type": "stream",
          "name": "stderr",
          "text": [
            "                                               "
          ]
        },
        {
          "output_type": "stream",
          "name": "stdout",
          "text": [
            "Epoch 91 Loss is: 0.2951470876441282\n"
          ]
        },
        {
          "output_type": "stream",
          "name": "stderr",
          "text": [
            "                                               "
          ]
        },
        {
          "output_type": "stream",
          "name": "stdout",
          "text": [
            "Epoch 92 Loss is: 0.29484424520941344\n"
          ]
        },
        {
          "output_type": "stream",
          "name": "stderr",
          "text": [
            "                                               "
          ]
        },
        {
          "output_type": "stream",
          "name": "stdout",
          "text": [
            "Epoch 93 Loss is: 0.2950122742091908\n"
          ]
        },
        {
          "output_type": "stream",
          "name": "stderr",
          "text": [
            "                                               "
          ]
        },
        {
          "output_type": "stream",
          "name": "stdout",
          "text": [
            "Epoch 94 Loss is: 0.29424414915197034\n"
          ]
        },
        {
          "output_type": "stream",
          "name": "stderr",
          "text": [
            "                                               "
          ]
        },
        {
          "output_type": "stream",
          "name": "stdout",
          "text": [
            "Epoch 95 Loss is: 0.2943922368919148\n"
          ]
        },
        {
          "output_type": "stream",
          "name": "stderr",
          "text": [
            "                                               "
          ]
        },
        {
          "output_type": "stream",
          "name": "stdout",
          "text": [
            "Epoch 96 Loss is: 0.2925956985529731\n"
          ]
        },
        {
          "output_type": "stream",
          "name": "stderr",
          "text": [
            "                                               "
          ]
        },
        {
          "output_type": "stream",
          "name": "stdout",
          "text": [
            "Epoch 97 Loss is: 0.29290728533969207\n"
          ]
        },
        {
          "output_type": "stream",
          "name": "stderr",
          "text": [
            "                                               "
          ]
        },
        {
          "output_type": "stream",
          "name": "stdout",
          "text": [
            "Epoch 98 Loss is: 0.29150617823881264\n"
          ]
        },
        {
          "output_type": "stream",
          "name": "stderr",
          "text": [
            "                                               "
          ]
        },
        {
          "output_type": "stream",
          "name": "stdout",
          "text": [
            "Epoch 99 Loss is: 0.29077283950412974\n"
          ]
        },
        {
          "output_type": "stream",
          "name": "stderr",
          "text": [
            "                                               "
          ]
        },
        {
          "output_type": "stream",
          "name": "stdout",
          "text": [
            "Epoch 100 Loss is: 0.2894728884977453\n"
          ]
        },
        {
          "output_type": "stream",
          "name": "stderr",
          "text": [
            "\r"
          ]
        }
      ]
    },
    {
      "cell_type": "markdown",
      "source": [
        "**Above we write the model training code. 100 epochs are considered in this particular work.**"
      ],
      "metadata": {
        "id": "rfgMA4o7-lkx"
      }
    },
    {
      "cell_type": "code",
      "source": [
        "# SAVE MODEL\n",
        "model_save_name = 'PRCD_D3_RS42_100Epoch_NoVal_Model_1.pt'\n",
        "\n",
        "torch.save(model.state_dict(), model_save_name)"
      ],
      "metadata": {
        "id": "adA2IcpNwjJ2"
      },
      "execution_count": 69,
      "outputs": []
    },
    {
      "cell_type": "code",
      "source": [
        "# LOAD MODEL\n",
        "\n",
        "load_path = \"PRCD_D3_RS42_100Epoch_NoVal_Model_1.pt\" \n",
        "model.load_state_dict(torch.load(load_path))"
      ],
      "metadata": {
        "colab": {
          "base_uri": "https://localhost:8080/"
        },
        "id": "uDO_FTfZxQr4",
        "outputId": "d78a1c68-345e-4dc0-ae87-06866b93d48d"
      },
      "execution_count": 70,
      "outputs": [
        {
          "output_type": "execute_result",
          "data": {
            "text/plain": [
              "<All keys matched successfully>"
            ]
          },
          "metadata": {},
          "execution_count": 70
        }
      ]
    },
    {
      "cell_type": "markdown",
      "source": [
        "**Once the trained model is available, we can perform inference and check our results.**"
      ],
      "metadata": {
        "id": "urSgOAiH-yzq"
      }
    },
    {
      "cell_type": "code",
      "source": [
        "# Visualize INFERENCE Results\n",
        "\n",
        "num_viz = 3\n",
        "count_viz = 0\n",
        "\n",
        "for testSample in xTest:\n",
        "  img_viz = Image.open(testSample).convert(\"RGB\")\n",
        "  img_viz.show()\n",
        "  print(\"Correct Caption: \\n\")\n",
        "  captionPath = testSample.replace('.png','.gui').replace('/IMAGES/','/TEXT_LABELS/')\n",
        "  with open(captionPath, \"r\") as f:\n",
        "    lines = f.readlines()\n",
        "  caption = ' \\n'.join(lines)\n",
        "  print(caption)\n",
        "  transform = transforms.Compose([\n",
        "            transforms.Resize((299, 299)),\n",
        "            transforms.ToTensor(),\n",
        "            transforms.Normalize((0.5, 0.5, 0.5), (0.5, 0.5, 0.5)),\n",
        "        ]\n",
        "    )\n",
        "  dataset = MyDataset(xTrain, transform)\n",
        "  device = torch.device(\"cuda\" if torch.cuda.is_available() else \"cpu\")\n",
        "  model.eval()\n",
        "  test_img = transform(Image.open(testSample).convert(\"RGB\")).unsqueeze(0)\n",
        "  print(\"Predicted Caption: \\n\")\n",
        "  print(\" \".join(model.caption_image(test_img.to(device), dataset.vocab)))\n",
        "\n",
        "  count_viz += 1\n",
        "\n",
        "  if count_viz == num_viz:\n",
        "    break"
      ],
      "metadata": {
        "colab": {
          "base_uri": "https://localhost:8080/",
          "height": 1000
        },
        "id": "URdp1d5rtpNY",
        "outputId": "a344f3be-8f63-4dac-f226-fb83a162ea0b"
      },
      "execution_count": 71,
      "outputs": [
        {
          "output_type": "display_data",
          "data": {
            "text/plain": [
              "<PIL.Image.Image image mode=RGB size=1920x1080 at 0x7F964811FF10>"
            ],
            "image/png": "[encoded data removed]"
          },
          "metadata": {}
        },
        {
          "output_type": "stream",
          "name": "stdout",
          "text": [
            "Correct Caption: \n",
            "\n",
            "components {\n",
            " \n",
            "home, sidebar\n",
            " \n",
            "}\n",
            " \n",
            "orientation {\n",
            " \n",
            "sidebar-right-home-left\n",
            " \n",
            "}\n",
            " \n",
            "home {\n",
            " \n",
            "table {\n",
            " \n",
            "btns {\n",
            " \n",
            "btn, btn, btn\n",
            " \n",
            "}\n",
            " \n",
            "table-col {\n",
            " \n",
            "category, category, category\n",
            " \n",
            "}\n",
            " \n",
            "table-row {\n",
            " \n",
            "entry\n",
            " \n",
            "}\n",
            " \n",
            "}\n",
            " \n",
            "cards {\n",
            " \n",
            "img-btn-card, img-btn-card, img-txt-btn-card\n",
            " \n",
            "}\n",
            " \n",
            "}\n",
            " \n",
            "sidebar {\n",
            " \n",
            "nav {\n",
            " \n",
            "field-inactive, field-inactive, field-active, field-inactive\n",
            " \n",
            "}\n",
            " \n",
            "user {\n",
            " \n",
            "user-name\n",
            " \n",
            "}\n",
            " \n",
            "}\n",
            "\n",
            "Predicted Caption: \n",
            "\n",
            "<SOS> components {\n",
            " \n",
            "home, sidebar\n",
            " \n",
            "}\n",
            " \n",
            "orientation {\n",
            " \n",
            "sidebar-right-home-left\n",
            " \n",
            "}\n",
            " \n",
            "home {\n",
            " \n",
            "cards {\n",
            " \n",
            "img-card, img-card, img-card\n",
            " \n",
            "}\n",
            " \n",
            "table {\n",
            " \n",
            "btns {\n",
            " \n",
            "btn, btn\n",
            " \n",
            "}\n",
            " \n",
            "table-col {\n",
            " \n",
            "category, category, category\n",
            " \n",
            "}\n",
            " \n",
            "table-row {\n",
            " \n",
            "entry, entry, entry, entry\n",
            " \n",
            "}\n",
            " \n",
            "}\n",
            " \n",
            "}\n",
            " \n",
            "sidebar {\n",
            " \n",
            "user {\n",
            " \n",
            "user-img-user-name\n",
            " \n",
            "}\n",
            " \n",
            "logo {\n",
            " \n",
            "logo-img\n",
            " \n",
            "}\n",
            "\n"
          ]
        },
        {
          "output_type": "display_data",
          "data": {
            "text/plain": [
              "<PIL.Image.Image image mode=RGB size=1920x1080 at 0x7F96570858E0>"
            ],
            "image/png": "[encoded data removed]"
          },
          "metadata": {}
        },
        {
          "output_type": "stream",
          "name": "stdout",
          "text": [
            "Correct Caption: \n",
            "\n",
            "components {\n",
            " \n",
            "sidebar, home\n",
            " \n",
            "}\n",
            " \n",
            "orientation {\n",
            " \n",
            "sidebar-left-home-right\n",
            " \n",
            "}\n",
            " \n",
            "sidebar {\n",
            " \n",
            "logo {\n",
            " \n",
            "logo-txt\n",
            " \n",
            "}\n",
            " \n",
            "user {\n",
            " \n",
            "user-name\n",
            " \n",
            "}\n",
            " \n",
            "nav {\n",
            " \n",
            "field-inactive, field-inactive, field-active, field-inactive\n",
            " \n",
            "}\n",
            " \n",
            "}\n",
            " \n",
            "home {\n",
            " \n",
            "cards {\n",
            " \n",
            "img-txt-btn-card, img-card, img-txt-btn-card\n",
            " \n",
            "}\n",
            " \n",
            "table {\n",
            " \n",
            "btns {\n",
            " \n",
            "btn, btn\n",
            " \n",
            "}\n",
            " \n",
            "table-col {\n",
            " \n",
            "category, category\n",
            " \n",
            "}\n",
            " \n",
            "table-row {\n",
            " \n",
            "entry, entry\n",
            " \n",
            "}\n",
            " \n",
            "}\n",
            " \n",
            "}\n",
            "\n",
            "Predicted Caption: \n",
            "\n",
            "<SOS> components {\n",
            " \n",
            "home, sidebar\n",
            " \n",
            "}\n",
            " \n",
            "orientation {\n",
            " \n",
            "sidebar-right-home-left\n",
            " \n",
            "}\n",
            " \n",
            "home {\n",
            " \n",
            "cards {\n",
            " \n",
            "img-card, img-card, img-card\n",
            " \n",
            "}\n",
            " \n",
            "table {\n",
            " \n",
            "btns {\n",
            " \n",
            "btn, btn\n",
            " \n",
            "}\n",
            " \n",
            "table-col {\n",
            " \n",
            "category, category, category\n",
            " \n",
            "}\n",
            " \n",
            "table-row {\n",
            " \n",
            "entry, entry, entry, entry\n",
            " \n",
            "}\n",
            " \n",
            "}\n",
            " \n",
            "}\n",
            " \n",
            "sidebar {\n",
            " \n",
            "user {\n",
            " \n",
            "user-img-user-name\n",
            " \n",
            "}\n",
            " \n",
            "logo {\n",
            " \n",
            "logo-img\n",
            " \n",
            "}\n",
            "\n"
          ]
        },
        {
          "output_type": "display_data",
          "data": {
            "text/plain": [
              "<PIL.Image.Image image mode=RGB size=1920x1080 at 0x7F9656A36F40>"
            ],
            "image/png": "[encoded data removed]"
          },
          "metadata": {}
        },
        {
          "output_type": "stream",
          "name": "stdout",
          "text": [
            "Correct Caption: \n",
            "\n",
            "components {\n",
            " \n",
            "sidebar, home\n",
            " \n",
            "}\n",
            " \n",
            "orientation {\n",
            " \n",
            "sidebar-left-home-right\n",
            " \n",
            "}\n",
            " \n",
            "sidebar {\n",
            " \n",
            "nav {\n",
            " \n",
            "field-inactive, field-inactive, field-active\n",
            " \n",
            "}\n",
            " \n",
            "user {\n",
            " \n",
            "user-name\n",
            " \n",
            "}\n",
            " \n",
            "}\n",
            " \n",
            "home {\n",
            " \n",
            "cards {\n",
            " \n",
            "img-card, img-txt-btn-card, img-card\n",
            " \n",
            "}\n",
            " \n",
            "table {\n",
            " \n",
            "btns {\n",
            " \n",
            "btn, btn\n",
            " \n",
            "}\n",
            " \n",
            "table-col {\n",
            " \n",
            "category, category\n",
            " \n",
            "}\n",
            " \n",
            "table-row {\n",
            " \n",
            "entry, entry\n",
            " \n",
            "}\n",
            " \n",
            "}\n",
            " \n",
            "}\n",
            "\n",
            "Predicted Caption: \n",
            "\n",
            "<SOS> components {\n",
            " \n",
            "home, sidebar\n",
            " \n",
            "}\n",
            " \n",
            "orientation {\n",
            " \n",
            "sidebar-right-home-left\n",
            " \n",
            "}\n",
            " \n",
            "home {\n",
            " \n",
            "cards {\n",
            " \n",
            "img-card, img-card, img-card\n",
            " \n",
            "}\n",
            " \n",
            "table {\n",
            " \n",
            "btns {\n",
            " \n",
            "btn, btn\n",
            " \n",
            "}\n",
            " \n",
            "table-col {\n",
            " \n",
            "category, category, category\n",
            " \n",
            "}\n",
            " \n",
            "table-row {\n",
            " \n",
            "entry, entry, entry, entry\n",
            " \n",
            "}\n",
            " \n",
            "}\n",
            " \n",
            "}\n",
            " \n",
            "sidebar {\n",
            " \n",
            "user {\n",
            " \n",
            "user-img-user-name\n",
            " \n",
            "}\n",
            " \n",
            "logo {\n",
            " \n",
            "logo-img\n",
            " \n",
            "}\n",
            "\n"
          ]
        }
      ]
    },
    {
      "cell_type": "markdown",
      "source": [
        "**We observe that even though there are some inaccuracies present with the output, we are still able to generate decent UI code with such a small dataset to work with.**"
      ],
      "metadata": {
        "id": "cLejYjEt-4lM"
      }
    },
    {
      "cell_type": "markdown",
      "source": [
        "**EVALUATE PREDICTIONS VIA ROUGE SCORES**"
      ],
      "metadata": {
        "id": "_v_JBSdE4OHd"
      }
    },
    {
      "cell_type": "code",
      "source": [
        "import locale\n",
        "locale.getpreferredencoding = lambda: \"UTF-8\""
      ],
      "metadata": {
        "id": "6rqmpVTH4LFL"
      },
      "execution_count": 72,
      "outputs": []
    },
    {
      "cell_type": "code",
      "source": [
        "!pip install rouge-score"
      ],
      "metadata": {
        "colab": {
          "base_uri": "https://localhost:8080/"
        },
        "id": "Uy0UpXsl5Dlk",
        "outputId": "766387e2-b504-414f-c634-e41d234ee173"
      },
      "execution_count": 73,
      "outputs": [
        {
          "output_type": "stream",
          "name": "stdout",
          "text": [
            "Looking in indexes: https://pypi.org/simple, https://us-python.pkg.dev/colab-wheels/public/simple/\n",
            "Requirement already satisfied: rouge-score in /usr/local/lib/python3.9/dist-packages (0.1.2)\n",
            "Requirement already satisfied: six>=1.14.0 in /usr/local/lib/python3.9/dist-packages (from rouge-score) (1.16.0)\n",
            "Requirement already satisfied: numpy in /usr/local/lib/python3.9/dist-packages (from rouge-score) (1.22.4)\n",
            "Requirement already satisfied: absl-py in /usr/local/lib/python3.9/dist-packages (from rouge-score) (1.4.0)\n",
            "Requirement already satisfied: nltk in /usr/local/lib/python3.9/dist-packages (from rouge-score) (3.8.1)\n",
            "Requirement already satisfied: tqdm in /usr/local/lib/python3.9/dist-packages (from nltk->rouge-score) (4.65.0)\n",
            "Requirement already satisfied: regex>=2021.8.3 in /usr/local/lib/python3.9/dist-packages (from nltk->rouge-score) (2022.10.31)\n",
            "Requirement already satisfied: click in /usr/local/lib/python3.9/dist-packages (from nltk->rouge-score) (8.1.3)\n",
            "Requirement already satisfied: joblib in /usr/local/lib/python3.9/dist-packages (from nltk->rouge-score) (1.1.1)\n"
          ]
        }
      ]
    },
    {
      "cell_type": "code",
      "source": [
        "# EVALUATE USING ROUGE SCORES\n",
        "from rouge_score import rouge_scorer\n",
        "\n",
        "allTestGT = []\n",
        "allTestPred = []\n",
        "\n",
        "for item in xTest:\n",
        "  captionPath = item.replace('.png','.gui').replace('/IMAGES/','/TEXT_LABELS/')\n",
        "  with open(captionPath, \"r\") as f:\n",
        "    lines = f.readlines()\n",
        "  caption = ' \\n'.join(lines)\n",
        "  allTestGT.append(caption)\n",
        "  transform = transforms.Compose([\n",
        "            transforms.Resize((299, 299)),\n",
        "            transforms.ToTensor(),\n",
        "            transforms.Normalize((0.5, 0.5, 0.5), (0.5, 0.5, 0.5)),\n",
        "        ]\n",
        "    )\n",
        "  dataset = MyDataset(xTrain, transform)\n",
        "  device = torch.device(\"cuda\" if torch.cuda.is_available() else \"cpu\")\n",
        "  model.eval()\n",
        "  test_img = transform(Image.open(testSample).convert(\"RGB\")).unsqueeze(0)\n",
        "  \n",
        "  allTestPred.append(\" \".join(model.caption_image(test_img.to(device), dataset.vocab)).replace('<SOS> ',''))\n",
        "print(len(allTestGT))\n",
        "print(len(allTestPred))"
      ],
      "metadata": {
        "colab": {
          "base_uri": "https://localhost:8080/"
        },
        "id": "wGeDRJ4Ctfi1",
        "outputId": "a22a17b4-5052-4ac9-8aa4-256af2af7233"
      },
      "execution_count": 74,
      "outputs": [
        {
          "output_type": "stream",
          "name": "stdout",
          "text": [
            "30\n",
            "30\n"
          ]
        }
      ]
    },
    {
      "cell_type": "code",
      "source": [
        "scorer = rouge_scorer.RougeScorer(['rouge1','rouge2', 'rougeL'], use_stemmer=False)"
      ],
      "metadata": {
        "id": "YEkTH6wD5yYx"
      },
      "execution_count": 75,
      "outputs": []
    },
    {
      "cell_type": "code",
      "source": [
        "import numpy as np\n",
        "\n",
        "r1_prec_list = []\n",
        "r1_rec_list = []\n",
        "r1_f1_list = []\n",
        "\n",
        "r2_prec_list = []\n",
        "r2_rec_list = []\n",
        "r2_f1_list = []\n",
        "\n",
        "rL_prec_list = []\n",
        "rL_rec_list = []\n",
        "rL_f1_list = []\n",
        "\n",
        "for i in range(len(allTestGT)):\n",
        "  allScores = scorer.score(allTestGT[i], allTestPred[i])\n",
        "\n",
        "  r1_prec_list.append(allScores['rouge1'].precision)\n",
        "  r1_rec_list.append(allScores['rouge1'].recall)\n",
        "  r1_f1_list.append(allScores['rouge1'].fmeasure)\n",
        "\n",
        "  r2_prec_list.append(allScores['rouge2'].precision)\n",
        "  r2_rec_list.append(allScores['rouge2'].recall)\n",
        "  r2_f1_list.append(allScores['rouge2'].fmeasure)\n",
        "\n",
        "  rL_prec_list.append(allScores['rougeL'].precision)\n",
        "  rL_rec_list.append(allScores['rougeL'].recall)\n",
        "  rL_f1_list.append(allScores['rougeL'].fmeasure)\n",
        "\n",
        "print(\"Average ROUGE-1 Precision: \",np.mean(r1_prec_list))\n",
        "print(\"Average ROUGE-1 Recall: \",np.mean(r1_rec_list))\n",
        "print(\"Average ROUGE-1 F1-Score: \",np.mean(r1_f1_list))\n",
        "\n",
        "print(\"Average ROUGE-2 Precision: \",np.mean(r2_prec_list))\n",
        "print(\"Average ROUGE-2 Recall: \",np.mean(r2_rec_list))\n",
        "print(\"Average ROUGE-2 F1-Score: \",np.mean(r2_f1_list))\n",
        "\n",
        "print(\"Average ROUGE-L Precision: \",np.mean(rL_prec_list))\n",
        "print(\"Average ROUGE-L Recall: \",np.mean(rL_rec_list))\n",
        "print(\"Average ROUGE-L F1-Score: \",np.mean(rL_f1_list))"
      ],
      "metadata": {
        "colab": {
          "base_uri": "https://localhost:8080/"
        },
        "id": "6-a4b2n66Jwc",
        "outputId": "8bc8c41e-23a7-4ed3-afd0-c9ba21f9aa1a"
      },
      "execution_count": 76,
      "outputs": [
        {
          "output_type": "stream",
          "name": "stdout",
          "text": [
            "Average ROUGE-1 Precision:  0.8458333333333333\n",
            "Average ROUGE-1 Recall:  0.7752565817514291\n",
            "Average ROUGE-1 F1-Score:  0.8068772428112433\n",
            "Average ROUGE-2 Precision:  0.6324786324786326\n",
            "Average ROUGE-2 Recall:  0.5821744045332017\n",
            "Average ROUGE-2 F1-Score:  0.604526594170247\n",
            "Average ROUGE-L Precision:  0.6383333333333335\n",
            "Average ROUGE-L Recall:  0.588818033105193\n",
            "Average ROUGE-L F1-Score:  0.6108999762254487\n"
          ]
        }
      ]
    },
    {
      "cell_type": "markdown",
      "source": [
        "**From the ROUGE score based analysis we can see that the CNN-LSTM based approach is able to obtain >60% F1-Scores for ROUGE-1,2, and L. This is around 10% worse than the performance on Dataset 1 and about 2% better than the performance on Dataset 2.**"
      ],
      "metadata": {
        "id": "hvqsxNew_Lpu"
      }
    }
  ]
}